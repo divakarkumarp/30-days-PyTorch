{
  "nbformat": 4,
  "nbformat_minor": 0,
  "metadata": {
    "colab": {
      "provenance": [],
      "gpuType": "T4"
    },
    "kernelspec": {
      "name": "python3",
      "display_name": "Python 3"
    },
    "language_info": {
      "name": "python"
    },
    "accelerator": "GPU"
  },
  "cells": [
    {
      "cell_type": "code",
      "execution_count": 14,
      "metadata": {
        "colab": {
          "base_uri": "https://localhost:8080/"
        },
        "id": "cAIJgmUxK0pU",
        "outputId": "be951835-ae8f-495f-dafc-adb5417d787e"
      },
      "outputs": [
        {
          "output_type": "stream",
          "name": "stdout",
          "text": [
            "Hello I'm excited to learn PyTorch\n"
          ]
        }
      ],
      "source": [
        "print(\"Hello I'm excited to learn PyTorch\")"
      ]
    },
    {
      "cell_type": "code",
      "source": [
        "!nvidia-smi\n"
      ],
      "metadata": {
        "colab": {
          "base_uri": "https://localhost:8080/"
        },
        "id": "BKrhXJcINf-7",
        "outputId": "070fd631-6cc3-42de-d05b-6849d7660aa0"
      },
      "execution_count": 15,
      "outputs": [
        {
          "output_type": "stream",
          "name": "stdout",
          "text": [
            "Wed Sep 18 16:49:01 2024       \n",
            "+---------------------------------------------------------------------------------------+\n",
            "| NVIDIA-SMI 535.104.05             Driver Version: 535.104.05   CUDA Version: 12.2     |\n",
            "|-----------------------------------------+----------------------+----------------------+\n",
            "| GPU  Name                 Persistence-M | Bus-Id        Disp.A | Volatile Uncorr. ECC |\n",
            "| Fan  Temp   Perf          Pwr:Usage/Cap |         Memory-Usage | GPU-Util  Compute M. |\n",
            "|                                         |                      |               MIG M. |\n",
            "|=========================================+======================+======================|\n",
            "|   0  Tesla T4                       Off | 00000000:00:04.0 Off |                    0 |\n",
            "| N/A   59C    P0              30W /  70W |    151MiB / 15360MiB |      0%      Default |\n",
            "|                                         |                      |                  N/A |\n",
            "+-----------------------------------------+----------------------+----------------------+\n",
            "                                                                                         \n",
            "+---------------------------------------------------------------------------------------+\n",
            "| Processes:                                                                            |\n",
            "|  GPU   GI   CI        PID   Type   Process name                            GPU Memory |\n",
            "|        ID   ID                                                             Usage      |\n",
            "|=======================================================================================|\n",
            "+---------------------------------------------------------------------------------------+\n"
          ]
        }
      ]
    },
    {
      "cell_type": "code",
      "source": [
        "import torch\n",
        "import pandas as pd\n",
        "import numpy as np\n",
        "import matplotlib.pyplot as plt\n",
        "print(torch.__version__)"
      ],
      "metadata": {
        "colab": {
          "base_uri": "https://localhost:8080/"
        },
        "id": "lSrVOFlAOTSg",
        "outputId": "ad813a39-81f7-4553-97fa-5a6fd395c675"
      },
      "execution_count": 16,
      "outputs": [
        {
          "output_type": "stream",
          "name": "stdout",
          "text": [
            "2.4.0+cu121\n"
          ]
        }
      ]
    },
    {
      "cell_type": "markdown",
      "source": [
        "## Introductuion to Tensors\n",
        "\n",
        "## Creating tensors\n",
        "PyTorch tensord arecreated using torch.Tensor() - https://pytorch.org/docs/stable/tensors.html"
      ],
      "metadata": {
        "id": "Jy7_6-WtQfQi"
      }
    },
    {
      "cell_type": "code",
      "source": [
        "# scalar\n",
        "scalar = torch.tensor(7)\n",
        "scalar"
      ],
      "metadata": {
        "colab": {
          "base_uri": "https://localhost:8080/"
        },
        "id": "Ww-UdnhgPZdq",
        "outputId": "592433f7-a428-43b0-a2c6-0fc8b13a52df"
      },
      "execution_count": 17,
      "outputs": [
        {
          "output_type": "execute_result",
          "data": {
            "text/plain": [
              "tensor(7)"
            ]
          },
          "metadata": {},
          "execution_count": 17
        }
      ]
    },
    {
      "cell_type": "code",
      "source": [
        "scalar.ndim"
      ],
      "metadata": {
        "colab": {
          "base_uri": "https://localhost:8080/"
        },
        "id": "KGVl-nF7Qczf",
        "outputId": "7d1810dc-174e-41ab-dd5c-d54ba58d38f1"
      },
      "execution_count": 18,
      "outputs": [
        {
          "output_type": "execute_result",
          "data": {
            "text/plain": [
              "0"
            ]
          },
          "metadata": {},
          "execution_count": 18
        }
      ]
    },
    {
      "cell_type": "code",
      "source": [
        "# Get tesnsor back as python int\n",
        "scalar.item()"
      ],
      "metadata": {
        "colab": {
          "base_uri": "https://localhost:8080/"
        },
        "id": "TrJPQQ7-VL-Z",
        "outputId": "1a3e5c79-ff8f-416c-d282-21d888730222"
      },
      "execution_count": 19,
      "outputs": [
        {
          "output_type": "execute_result",
          "data": {
            "text/plain": [
              "7"
            ]
          },
          "metadata": {},
          "execution_count": 19
        }
      ]
    },
    {
      "cell_type": "code",
      "source": [
        "# Vector\n",
        "vector = torch.tensor([7, 7])\n",
        "vector"
      ],
      "metadata": {
        "colab": {
          "base_uri": "https://localhost:8080/"
        },
        "id": "O6UDoZPsVPi-",
        "outputId": "bb7275a0-b935-4207-ae64-4a7425a93a12"
      },
      "execution_count": 20,
      "outputs": [
        {
          "output_type": "execute_result",
          "data": {
            "text/plain": [
              "tensor([7, 7])"
            ]
          },
          "metadata": {},
          "execution_count": 20
        }
      ]
    },
    {
      "cell_type": "code",
      "source": [
        "vector.ndim"
      ],
      "metadata": {
        "colab": {
          "base_uri": "https://localhost:8080/"
        },
        "id": "2Ca9IIq_V5c2",
        "outputId": "dd130148-1dce-4ba0-b431-343f5f1e6ef5"
      },
      "execution_count": 21,
      "outputs": [
        {
          "output_type": "execute_result",
          "data": {
            "text/plain": [
              "1"
            ]
          },
          "metadata": {},
          "execution_count": 21
        }
      ]
    },
    {
      "cell_type": "code",
      "source": [
        "vector.shape"
      ],
      "metadata": {
        "colab": {
          "base_uri": "https://localhost:8080/"
        },
        "id": "kbhWvs1KWH1-",
        "outputId": "c677bc02-8d50-4667-b0d2-999762d7cd4e"
      },
      "execution_count": 22,
      "outputs": [
        {
          "output_type": "execute_result",
          "data": {
            "text/plain": [
              "torch.Size([2])"
            ]
          },
          "metadata": {},
          "execution_count": 22
        }
      ]
    },
    {
      "cell_type": "code",
      "source": [
        "# MATRIX\n",
        "MATRIX = torch.tensor([[7, 8],\n",
        "                       [9, 10]])\n",
        "MATRIX"
      ],
      "metadata": {
        "colab": {
          "base_uri": "https://localhost:8080/"
        },
        "id": "5y8COx2-WdHs",
        "outputId": "d60dcd4a-02fc-4eda-a81a-3dce4b64f2fb"
      },
      "execution_count": 23,
      "outputs": [
        {
          "output_type": "execute_result",
          "data": {
            "text/plain": [
              "tensor([[ 7,  8],\n",
              "        [ 9, 10]])"
            ]
          },
          "metadata": {},
          "execution_count": 23
        }
      ]
    },
    {
      "cell_type": "code",
      "source": [
        "MATRIX.ndim"
      ],
      "metadata": {
        "colab": {
          "base_uri": "https://localhost:8080/"
        },
        "id": "ewMwQGtdW9tb",
        "outputId": "ece4c613-b040-494c-e401-55b731310bda"
      },
      "execution_count": 24,
      "outputs": [
        {
          "output_type": "execute_result",
          "data": {
            "text/plain": [
              "2"
            ]
          },
          "metadata": {},
          "execution_count": 24
        }
      ]
    },
    {
      "cell_type": "code",
      "source": [
        "MATRIX[1]"
      ],
      "metadata": {
        "colab": {
          "base_uri": "https://localhost:8080/"
        },
        "id": "j27655dkXKqu",
        "outputId": "b0dd577a-9b8e-4ea8-c939-c760dea6c055"
      },
      "execution_count": 25,
      "outputs": [
        {
          "output_type": "execute_result",
          "data": {
            "text/plain": [
              "tensor([ 9, 10])"
            ]
          },
          "metadata": {},
          "execution_count": 25
        }
      ]
    },
    {
      "cell_type": "code",
      "source": [
        "MATRIX.shape"
      ],
      "metadata": {
        "colab": {
          "base_uri": "https://localhost:8080/"
        },
        "id": "CLOK9vowXfEl",
        "outputId": "a375a484-d0ad-420e-c2b3-947c23d92e83"
      },
      "execution_count": 26,
      "outputs": [
        {
          "output_type": "execute_result",
          "data": {
            "text/plain": [
              "torch.Size([2, 2])"
            ]
          },
          "metadata": {},
          "execution_count": 26
        }
      ]
    },
    {
      "cell_type": "code",
      "source": [
        "# TENSOR\n",
        "TENSOR = torch.tensor([[[1, 2, 3],\n",
        "                        [3, 6, 9],\n",
        "                        [2, 4, 5]]])\n",
        "TENSOR"
      ],
      "metadata": {
        "colab": {
          "base_uri": "https://localhost:8080/"
        },
        "id": "pfWWHp3fXsYO",
        "outputId": "26098827-3761-4838-ec82-3bd931892f88"
      },
      "execution_count": 27,
      "outputs": [
        {
          "output_type": "execute_result",
          "data": {
            "text/plain": [
              "tensor([[[1, 2, 3],\n",
              "         [3, 6, 9],\n",
              "         [2, 4, 5]]])"
            ]
          },
          "metadata": {},
          "execution_count": 27
        }
      ]
    },
    {
      "cell_type": "code",
      "source": [
        "# Check number of dimensions for TENSOR\n",
        "TENSOR.ndim"
      ],
      "metadata": {
        "colab": {
          "base_uri": "https://localhost:8080/"
        },
        "id": "QUAkDYtVYbtu",
        "outputId": "18f729eb-1b40-46cb-c7ce-90267c9ca169"
      },
      "execution_count": 28,
      "outputs": [
        {
          "output_type": "execute_result",
          "data": {
            "text/plain": [
              "3"
            ]
          },
          "metadata": {},
          "execution_count": 28
        }
      ]
    },
    {
      "cell_type": "code",
      "source": [
        "# Check shape of TENSOR\n",
        "TENSOR.shape"
      ],
      "metadata": {
        "colab": {
          "base_uri": "https://localhost:8080/"
        },
        "id": "kdile5MHZd58",
        "outputId": "abe6ee2e-2ba6-4aa3-ca9c-1664767474ba"
      },
      "execution_count": 29,
      "outputs": [
        {
          "output_type": "execute_result",
          "data": {
            "text/plain": [
              "torch.Size([1, 3, 3])"
            ]
          },
          "metadata": {},
          "execution_count": 29
        }
      ]
    },
    {
      "cell_type": "markdown",
      "source": [
        "![image.png](data:image/png;base64,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)"
      ],
      "metadata": {
        "id": "IKEXk_v7ZSJH"
      }
    },
    {
      "cell_type": "code",
      "source": [
        "TENSOR[0]"
      ],
      "metadata": {
        "colab": {
          "base_uri": "https://localhost:8080/"
        },
        "id": "XzsEzqsTa34v",
        "outputId": "b05c1e4c-cc45-4c86-849c-a0005348361e"
      },
      "execution_count": 30,
      "outputs": [
        {
          "output_type": "execute_result",
          "data": {
            "text/plain": [
              "tensor([[1, 2, 3],\n",
              "        [3, 6, 9],\n",
              "        [2, 4, 5]])"
            ]
          },
          "metadata": {},
          "execution_count": 30
        }
      ]
    },
    {
      "cell_type": "markdown",
      "source": [
        "![image.png](data:image/png;base64,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)\n",
        "\n",
        "Note: You might've noticed me using lowercase letters for scalar and vector and uppercase letters for MATRIX and TENSOR. This was on purpose. In practice, you'll often see scalars and vectors denoted as lowercase letters such as y or a. And matrices and tensors denoted as uppercase letters such as X or W."
      ],
      "metadata": {
        "id": "e1MsbvF2l5iW"
      }
    },
    {
      "cell_type": "markdown",
      "source": [
        "### Random tensors\n",
        "\n",
        "Why random tensors?\n",
        "\n",
        "Random tensors are important because the way many neural networks learn is that they start with tensors full of random numbers and then adjust those random numbers to better reperesent the data.\n",
        "\n",
        "Start with random numbers -> look at data -> update random numbers -> look at data -> update random numbers\n",
        "\n",
        "Torch random tensors- https://pytorch.org/docs/stable/generated/torch.rand.html"
      ],
      "metadata": {
        "id": "i4ctZbRQm_c4"
      }
    },
    {
      "cell_type": "code",
      "source": [
        "# create a random tensor of size (3, 4)\n",
        "random_tensor = torch.rand(3, 4)\n",
        "random_tensor\n"
      ],
      "metadata": {
        "id": "aZxWW_Iha9Dm",
        "colab": {
          "base_uri": "https://localhost:8080/"
        },
        "outputId": "2d53208d-2967-4aed-c2e4-f6bb71829818"
      },
      "execution_count": 31,
      "outputs": [
        {
          "output_type": "execute_result",
          "data": {
            "text/plain": [
              "tensor([[0.8549, 0.5509, 0.2868, 0.2063],\n",
              "        [0.4451, 0.3593, 0.7204, 0.0731],\n",
              "        [0.9699, 0.1078, 0.8829, 0.4132]])"
            ]
          },
          "metadata": {},
          "execution_count": 31
        }
      ]
    },
    {
      "cell_type": "code",
      "source": [
        "# create a random tensor of size (3, 4)\n",
        "random_tensor = torch.rand(6, 8, 5)\n",
        "random_tensor"
      ],
      "metadata": {
        "colab": {
          "base_uri": "https://localhost:8080/"
        },
        "id": "GiM5_VnhwEx0",
        "outputId": "85ecebf9-46ce-4492-d08e-a15307c5e49f"
      },
      "execution_count": 32,
      "outputs": [
        {
          "output_type": "execute_result",
          "data": {
            "text/plain": [
              "tensor([[[0.7572, 0.6948, 0.5209, 0.5932, 0.8797],\n",
              "         [0.6286, 0.7653, 0.1132, 0.8559, 0.6721],\n",
              "         [0.6267, 0.5691, 0.7437, 0.9592, 0.3887],\n",
              "         [0.2214, 0.3742, 0.1953, 0.7405, 0.2529],\n",
              "         [0.2332, 0.9314, 0.9575, 0.5575, 0.4134],\n",
              "         [0.4355, 0.7369, 0.0331, 0.0914, 0.8994],\n",
              "         [0.9936, 0.4703, 0.1049, 0.5137, 0.2674],\n",
              "         [0.4990, 0.7447, 0.7213, 0.4414, 0.5550]],\n",
              "\n",
              "        [[0.6361, 0.1081, 0.3305, 0.5196, 0.2147],\n",
              "         [0.2816, 0.6679, 0.7878, 0.5070, 0.3055],\n",
              "         [0.7738, 0.2259, 0.3826, 0.9717, 0.5921],\n",
              "         [0.5352, 0.6686, 0.3781, 0.9278, 0.0922],\n",
              "         [0.3625, 0.4136, 0.2943, 0.3762, 0.8099],\n",
              "         [0.7743, 0.5278, 0.9356, 0.1470, 0.2019],\n",
              "         [0.7259, 0.4731, 0.0444, 0.1539, 0.1956],\n",
              "         [0.8861, 0.7264, 0.8868, 0.1278, 0.0125]],\n",
              "\n",
              "        [[0.1721, 0.5535, 0.4012, 0.1849, 0.8640],\n",
              "         [0.3388, 0.2108, 0.7310, 0.3653, 0.8188],\n",
              "         [0.6192, 0.5123, 0.6050, 0.1243, 0.2325],\n",
              "         [0.2650, 0.2171, 0.5887, 0.5999, 0.2923],\n",
              "         [0.8259, 0.2218, 0.6009, 0.3572, 0.0663],\n",
              "         [0.1744, 0.7042, 0.6979, 0.1908, 0.3441],\n",
              "         [0.0326, 0.7688, 0.9323, 0.6635, 0.1906],\n",
              "         [0.7637, 0.9149, 0.3977, 0.4180, 0.6731]],\n",
              "\n",
              "        [[0.5643, 0.3347, 0.0358, 0.1494, 0.5271],\n",
              "         [0.4732, 0.9129, 0.5171, 0.3713, 0.0115],\n",
              "         [0.0403, 0.7077, 0.9454, 0.4924, 0.0531],\n",
              "         [0.6775, 0.9072, 0.1691, 0.3684, 0.5421],\n",
              "         [0.2149, 0.0364, 0.7189, 0.0897, 0.3745],\n",
              "         [0.2345, 0.8760, 0.5965, 0.7319, 0.1614],\n",
              "         [0.9214, 0.5446, 0.2227, 0.4673, 0.1460],\n",
              "         [0.4769, 0.7792, 0.2752, 0.9226, 0.6527]],\n",
              "\n",
              "        [[0.4125, 0.6562, 0.4079, 0.3838, 0.1720],\n",
              "         [0.7913, 0.8001, 0.6712, 0.7957, 0.9995],\n",
              "         [0.9708, 0.0175, 0.6140, 0.4572, 0.6698],\n",
              "         [0.4030, 0.6396, 0.0400, 0.7285, 0.9804],\n",
              "         [0.4101, 0.1023, 0.0844, 0.4041, 0.4924],\n",
              "         [0.5558, 0.5627, 0.8766, 0.4093, 0.6427],\n",
              "         [0.2343, 0.9918, 0.6919, 0.4307, 0.8287],\n",
              "         [0.6770, 0.5857, 0.3524, 0.5629, 0.5357]],\n",
              "\n",
              "        [[0.2079, 0.5072, 0.6092, 0.2038, 0.5893],\n",
              "         [0.3340, 0.0840, 0.2006, 0.1032, 0.6157],\n",
              "         [0.8058, 0.9546, 0.9903, 0.6969, 0.7446],\n",
              "         [0.4147, 0.9133, 0.3088, 0.3641, 0.3336],\n",
              "         [0.1648, 0.1146, 0.3981, 0.9041, 0.2509],\n",
              "         [0.0461, 0.3858, 0.9531, 0.6206, 0.4684],\n",
              "         [0.3571, 0.9390, 0.0195, 0.7833, 0.6358],\n",
              "         [0.8134, 0.2102, 0.3361, 0.2899, 0.9852]]])"
            ]
          },
          "metadata": {},
          "execution_count": 32
        }
      ]
    },
    {
      "cell_type": "markdown",
      "source": [
        "<img src=\"https://github.com/user-attachments/assets/2d6e82a5-4182-47db-b19d-9f548a59dd86\" alt=\"image\" width=\"500\" height=\"300\">"
      ],
      "metadata": {
        "id": "z1yI24kKhyVp"
      }
    },
    {
      "cell_type": "code",
      "source": [
        "# Create a random tensor with similar shape to an image tensor\n",
        "random_image_size_tensor = torch.rand(size=(224, 224, 3)) # height, width, color channels (R, G, B)\n",
        "random_image_size_tensor.shape, random_image_size_tensor.ndim"
      ],
      "metadata": {
        "id": "59yF-eZJot0M",
        "colab": {
          "base_uri": "https://localhost:8080/"
        },
        "outputId": "60913d46-f87f-4d4a-ad34-25bd81572f6f"
      },
      "execution_count": 33,
      "outputs": [
        {
          "output_type": "execute_result",
          "data": {
            "text/plain": [
              "(torch.Size([224, 224, 3]), 3)"
            ]
          },
          "metadata": {},
          "execution_count": 33
        }
      ]
    },
    {
      "cell_type": "markdown",
      "source": [
        "## Zeros and ones"
      ],
      "metadata": {
        "id": "tGRRveB7wU_v"
      }
    },
    {
      "cell_type": "code",
      "source": [
        "# Create a tensor of all zeros\n",
        "zeros = torch.zeros(size=(3, 4))\n",
        "zeros"
      ],
      "metadata": {
        "colab": {
          "base_uri": "https://localhost:8080/"
        },
        "id": "HhFRf5kTjvXd",
        "outputId": "b534acf2-6db5-4936-b54f-25d98f4600e5"
      },
      "execution_count": 34,
      "outputs": [
        {
          "output_type": "execute_result",
          "data": {
            "text/plain": [
              "tensor([[0., 0., 0., 0.],\n",
              "        [0., 0., 0., 0.],\n",
              "        [0., 0., 0., 0.]])"
            ]
          },
          "metadata": {},
          "execution_count": 34
        }
      ]
    },
    {
      "cell_type": "code",
      "source": [
        "# Create a tensor of all ones\n",
        "ones = torch.ones(size=(3, 4))\n",
        "ones"
      ],
      "metadata": {
        "colab": {
          "base_uri": "https://localhost:8080/"
        },
        "id": "E8n9-A-CwuAH",
        "outputId": "ed69f476-7a97-4153-857f-35b65a7aa46c"
      },
      "execution_count": 35,
      "outputs": [
        {
          "output_type": "execute_result",
          "data": {
            "text/plain": [
              "tensor([[1., 1., 1., 1.],\n",
              "        [1., 1., 1., 1.],\n",
              "        [1., 1., 1., 1.]])"
            ]
          },
          "metadata": {},
          "execution_count": 35
        }
      ]
    },
    {
      "cell_type": "code",
      "source": [
        "ones.dtype"
      ],
      "metadata": {
        "colab": {
          "base_uri": "https://localhost:8080/"
        },
        "id": "-PS9tmP1w8QY",
        "outputId": "8456462d-e641-4506-8072-fddbb37ab52b"
      },
      "execution_count": 36,
      "outputs": [
        {
          "output_type": "execute_result",
          "data": {
            "text/plain": [
              "torch.float32"
            ]
          },
          "metadata": {},
          "execution_count": 36
        }
      ]
    },
    {
      "cell_type": "code",
      "source": [
        "random_tensor.dtype"
      ],
      "metadata": {
        "colab": {
          "base_uri": "https://localhost:8080/"
        },
        "id": "Og-MoLzYxC46",
        "outputId": "032117c5-a15b-4440-d3a1-e01f470b016b"
      },
      "execution_count": 37,
      "outputs": [
        {
          "output_type": "execute_result",
          "data": {
            "text/plain": [
              "torch.float32"
            ]
          },
          "metadata": {},
          "execution_count": 37
        }
      ]
    },
    {
      "cell_type": "markdown",
      "source": [
        "## Creating a range of tensors and tensors -like"
      ],
      "metadata": {
        "id": "pJ8REQ-nxiWe"
      }
    },
    {
      "cell_type": "code",
      "source": [
        "# Use torch.arange()\n",
        "torch.arange(0, 10)"
      ],
      "metadata": {
        "colab": {
          "base_uri": "https://localhost:8080/"
        },
        "id": "3oAyegtHxa0z",
        "outputId": "e0cef871-7312-4b6b-e242-7c62ebaeb635"
      },
      "execution_count": 38,
      "outputs": [
        {
          "output_type": "execute_result",
          "data": {
            "text/plain": [
              "tensor([0, 1, 2, 3, 4, 5, 6, 7, 8, 9])"
            ]
          },
          "metadata": {},
          "execution_count": 38
        }
      ]
    },
    {
      "cell_type": "code",
      "source": [
        "one_to_ten = torch.arange(start=1, end=11, step=1)\n",
        "one_to_ten"
      ],
      "metadata": {
        "colab": {
          "base_uri": "https://localhost:8080/"
        },
        "id": "pyF1q8Uf0juY",
        "outputId": "45997939-2ac0-46fd-b159-57fbd915360f"
      },
      "execution_count": 39,
      "outputs": [
        {
          "output_type": "execute_result",
          "data": {
            "text/plain": [
              "tensor([ 1,  2,  3,  4,  5,  6,  7,  8,  9, 10])"
            ]
          },
          "metadata": {},
          "execution_count": 39
        }
      ]
    },
    {
      "cell_type": "code",
      "source": [
        "# Creating tensor like\n",
        "ten_zeros = torch.zeros_like(input=one_to_ten)\n",
        "ten_zeros"
      ],
      "metadata": {
        "colab": {
          "base_uri": "https://localhost:8080/"
        },
        "id": "r4qs0Nu-1A21",
        "outputId": "8689114c-aec4-4841-fc5e-38b9046cf7a5"
      },
      "execution_count": 40,
      "outputs": [
        {
          "output_type": "execute_result",
          "data": {
            "text/plain": [
              "tensor([0, 0, 0, 0, 0, 0, 0, 0, 0, 0])"
            ]
          },
          "metadata": {},
          "execution_count": 40
        }
      ]
    },
    {
      "cell_type": "code",
      "source": [
        "ten_ones = torch.ones_like(input=one_to_ten)\n",
        "ten_ones"
      ],
      "metadata": {
        "colab": {
          "base_uri": "https://localhost:8080/"
        },
        "id": "p9M8R6Ap9DWH",
        "outputId": "b99941fb-98f5-48e5-9b13-0e4ec0511de3"
      },
      "execution_count": 41,
      "outputs": [
        {
          "output_type": "execute_result",
          "data": {
            "text/plain": [
              "tensor([1, 1, 1, 1, 1, 1, 1, 1, 1, 1])"
            ]
          },
          "metadata": {},
          "execution_count": 41
        }
      ]
    },
    {
      "cell_type": "markdown",
      "source": [
        "## Tensor datatypes\n",
        "\n",
        "There are many different tensor datatypes available in PyTorch.\n",
        "\n",
        "Some are specific for CPU and some are better for GPU.\n",
        "\n",
        "Getting to know which is which can take some time.\n",
        "\n",
        "Generally if you see torch.cuda anywhere, the tensor is being used for GPU (since Nvidia GPUs use a computing toolkit called CUDA).\n",
        "\n",
        "The most common type (and generally the default) is torch.float32 or torch.float.\n",
        "\n",
        "This is referred to as \"32-bit floating point\".\n",
        "\n",
        "But there's also 16-bit floating point (torch.float16 or torch.half) and 64-bit floating point (torch.float64 or torch.double).\n",
        "\n",
        "And to confuse things even more there's also 8-bit, 16-bit, 32-bit and 64-bit integers.\n",
        "\n",
        "The reason for all of these is to do with precision in computing.\n",
        "\n",
        "Precision is the amount of detail used to describe a number.\n",
        "\n",
        "The higher the precision value (8, 16, 32), the more detail and hence data used to express a number.\n",
        "\n",
        "This matters in deep learning and numerical computing because you're making so many operations, the more detail you have to calculate on, the more compute you have to use.\n",
        "\n",
        "So lower precision datatypes are generally faster to compute on but sacrifice some performance on evaluation metrics like accuracy (faster to compute but less accurate).\n",
        "\n",
        "**Note:**Tensor datatype is one of the 3 big errors you'll run into with PyTorch & deep learning:\n",
        "1. Tensors not right datatype\n",
        "2. Tensors not right shape\n",
        "3. Tensors not on the right device\n",
        "\n",
        "Url : https://pytorch.org/docs/stable/tensors.html#data-types"
      ],
      "metadata": {
        "id": "QG7-_FDzkGRr"
      }
    },
    {
      "cell_type": "code",
      "source": [
        "# Flot 32 tensor\n",
        "float_32_tensor = torch.tensor([3.0, 6.0, 9.0],\n",
        "                               dtype=None) # what datatype is the tensor (e.g. float32 or float16)\n",
        "float_32_tensor"
      ],
      "metadata": {
        "colab": {
          "base_uri": "https://localhost:8080/"
        },
        "id": "2qNt2S5ik_6J",
        "outputId": "af989635-b300-4d46-e1f9-58c37ba72f45"
      },
      "execution_count": 42,
      "outputs": [
        {
          "output_type": "execute_result",
          "data": {
            "text/plain": [
              "tensor([3., 6., 9.])"
            ]
          },
          "metadata": {},
          "execution_count": 42
        }
      ]
    },
    {
      "cell_type": "code",
      "source": [
        "# Flot 32 tensor\n",
        "float_32_tensor = torch.tensor([3.0, 6.0, 9.0],\n",
        "                               dtype=None, # what datatype is the tensor (e.g. float32 or float16)\n",
        "                               device=None, # what device is the tensor on\n",
        "                               requires_grad=False) # whether or not to track gradients with this tensors operations\n",
        "float_32_tensor"
      ],
      "metadata": {
        "id": "6Vw7j9xw9MKU",
        "colab": {
          "base_uri": "https://localhost:8080/"
        },
        "outputId": "115429c4-1021-44e7-b795-ba9a4a88c7db"
      },
      "execution_count": 43,
      "outputs": [
        {
          "output_type": "execute_result",
          "data": {
            "text/plain": [
              "tensor([3., 6., 9.])"
            ]
          },
          "metadata": {},
          "execution_count": 43
        }
      ]
    },
    {
      "cell_type": "code",
      "source": [
        "float_32_tensor.dtype"
      ],
      "metadata": {
        "colab": {
          "base_uri": "https://localhost:8080/"
        },
        "id": "2g-W4UJck8x4",
        "outputId": "572ee391-af37-4aaa-d981-121c161aa370"
      },
      "execution_count": 44,
      "outputs": [
        {
          "output_type": "execute_result",
          "data": {
            "text/plain": [
              "torch.float32"
            ]
          },
          "metadata": {},
          "execution_count": 44
        }
      ]
    },
    {
      "cell_type": "code",
      "source": [
        "float_16_tensor = float_32_tensor.type(torch.float16)\n",
        "float_16_tensor"
      ],
      "metadata": {
        "colab": {
          "base_uri": "https://localhost:8080/"
        },
        "id": "dKbbhGVqn831",
        "outputId": "8a7eac65-6f50-482e-d177-5fd52502b212"
      },
      "execution_count": 45,
      "outputs": [
        {
          "output_type": "execute_result",
          "data": {
            "text/plain": [
              "tensor([3., 6., 9.], dtype=torch.float16)"
            ]
          },
          "metadata": {},
          "execution_count": 45
        }
      ]
    },
    {
      "cell_type": "code",
      "source": [
        "float_16_tensor * float_32_tensor"
      ],
      "metadata": {
        "colab": {
          "base_uri": "https://localhost:8080/"
        },
        "id": "7y9xonWpw1B9",
        "outputId": "371d5b47-fce0-4f67-a678-468697879836"
      },
      "execution_count": 46,
      "outputs": [
        {
          "output_type": "execute_result",
          "data": {
            "text/plain": [
              "tensor([ 9., 36., 81.])"
            ]
          },
          "metadata": {},
          "execution_count": 46
        }
      ]
    },
    {
      "cell_type": "code",
      "source": [
        "int_32_tensor = torch.tensor([3, 6, 9], dtype=torch.int32)\n",
        "int_32_tensor"
      ],
      "metadata": {
        "colab": {
          "base_uri": "https://localhost:8080/"
        },
        "id": "8JXySQLp2NeA",
        "outputId": "7c08e22b-abf4-4abb-f25e-2f47999928e4"
      },
      "execution_count": 47,
      "outputs": [
        {
          "output_type": "execute_result",
          "data": {
            "text/plain": [
              "tensor([3, 6, 9], dtype=torch.int32)"
            ]
          },
          "metadata": {},
          "execution_count": 47
        }
      ]
    },
    {
      "cell_type": "code",
      "source": [
        "#int_32_tensor = torch.tensor([3, 6, 9], dtype=torch.int64)\n",
        "#int_32_tensor"
      ],
      "metadata": {
        "id": "v7KfNBbt2_uX"
      },
      "execution_count": 48,
      "outputs": []
    },
    {
      "cell_type": "code",
      "source": [
        "int_32_tensor = torch.tensor([3, 6, 9], dtype=torch.long)\n",
        "int_32_tensor"
      ],
      "metadata": {
        "colab": {
          "base_uri": "https://localhost:8080/"
        },
        "id": "rXKo2O3r3NDK",
        "outputId": "33fd08b1-dcf9-4e54-ab3b-05122b21c4f1"
      },
      "execution_count": 49,
      "outputs": [
        {
          "output_type": "execute_result",
          "data": {
            "text/plain": [
              "tensor([3, 6, 9])"
            ]
          },
          "metadata": {},
          "execution_count": 49
        }
      ]
    },
    {
      "cell_type": "code",
      "source": [
        "float_32_tensor * int_32_tensor"
      ],
      "metadata": {
        "colab": {
          "base_uri": "https://localhost:8080/"
        },
        "id": "VCTZvxsL2xI-",
        "outputId": "cb443327-b056-4fa1-85c0-baaac1e8a85a"
      },
      "execution_count": 50,
      "outputs": [
        {
          "output_type": "execute_result",
          "data": {
            "text/plain": [
              "tensor([ 9., 36., 81.])"
            ]
          },
          "metadata": {},
          "execution_count": 50
        }
      ]
    },
    {
      "cell_type": "markdown",
      "source": [
        "### Getting information from tensors\n",
        "1. Tensors not right datatype - to do get datatype from a tensor,can use tensor.dtype\n",
        "2. Tensors not right shape - to get shape from a tensor, can use tensor.shape\n",
        "3. Tensors not on the right device - to get device from a tensor, can use tensor.device"
      ],
      "metadata": {
        "id": "RPb_Q59h3_Yn"
      }
    },
    {
      "cell_type": "code",
      "source": [
        "# Create a tensor\n",
        "some_tensor = torch.rand(3, 4)\n",
        "some_tensor"
      ],
      "metadata": {
        "colab": {
          "base_uri": "https://localhost:8080/"
        },
        "id": "ghxYbeWvs8m3",
        "outputId": "9d80f452-31d8-4f33-e4a4-78f3cabb191c"
      },
      "execution_count": 51,
      "outputs": [
        {
          "output_type": "execute_result",
          "data": {
            "text/plain": [
              "tensor([[0.9388, 0.8044, 0.0389, 0.1578],\n",
              "        [0.1932, 0.9288, 0.1771, 0.1422],\n",
              "        [0.9791, 0.2180, 0.9697, 0.9047]])"
            ]
          },
          "metadata": {},
          "execution_count": 51
        }
      ]
    },
    {
      "cell_type": "code",
      "source": [
        "# Find out deatils about some tensor\n",
        "print(some_tensor)\n",
        "print(f\"Datatype of tensor: {some_tensor.dtype}\")\n",
        "print(f\"Shape of tensor: {some_tensor.shape}\")\n",
        "print(f\"Device tensor is on: {some_tensor.device}\")"
      ],
      "metadata": {
        "id": "wOeBNevj22CN",
        "colab": {
          "base_uri": "https://localhost:8080/"
        },
        "outputId": "bc9efa8f-88c7-403d-8f89-6d251ef2e337"
      },
      "execution_count": 52,
      "outputs": [
        {
          "output_type": "stream",
          "name": "stdout",
          "text": [
            "tensor([[0.9388, 0.8044, 0.0389, 0.1578],\n",
            "        [0.1932, 0.9288, 0.1771, 0.1422],\n",
            "        [0.9791, 0.2180, 0.9697, 0.9047]])\n",
            "Datatype of tensor: torch.float32\n",
            "Shape of tensor: torch.Size([3, 4])\n",
            "Device tensor is on: cpu\n"
          ]
        }
      ]
    },
    {
      "cell_type": "markdown",
      "source": [
        "### Manipulating Tensors (tensor operations)\n",
        "\n",
        "Tensor operations include:\n",
        "* Addition\n",
        "* subtraction\n",
        "* Multiplication (element-wise)\n",
        "* Division\n",
        " Matrix multiplication"
      ],
      "metadata": {
        "id": "QcSs-s0-wRJL"
      }
    },
    {
      "cell_type": "code",
      "source": [
        "# Create a tensor and add 10 to it\n",
        "tensor = torch.tensor([1, 2, 3])\n",
        "tensor + 10"
      ],
      "metadata": {
        "colab": {
          "base_uri": "https://localhost:8080/"
        },
        "id": "ihyJzhOrv3Tk",
        "outputId": "091b308f-5104-4644-9e32-462f9d14123e"
      },
      "execution_count": 53,
      "outputs": [
        {
          "output_type": "execute_result",
          "data": {
            "text/plain": [
              "tensor([11, 12, 13])"
            ]
          },
          "metadata": {},
          "execution_count": 53
        }
      ]
    },
    {
      "cell_type": "code",
      "source": [
        "# Multiply tensor by 10\n",
        "tensor * 10"
      ],
      "metadata": {
        "colab": {
          "base_uri": "https://localhost:8080/"
        },
        "id": "wLNNR3g60o8r",
        "outputId": "62775df8-c55d-4180-9453-bb2810ffa315"
      },
      "execution_count": 54,
      "outputs": [
        {
          "output_type": "execute_result",
          "data": {
            "text/plain": [
              "tensor([10, 20, 30])"
            ]
          },
          "metadata": {},
          "execution_count": 54
        }
      ]
    },
    {
      "cell_type": "code",
      "source": [
        "tensor"
      ],
      "metadata": {
        "colab": {
          "base_uri": "https://localhost:8080/"
        },
        "id": "_HfrNwHT1q25",
        "outputId": "09ba77fa-5cac-4dac-e27c-6d84d4f56f75"
      },
      "execution_count": 55,
      "outputs": [
        {
          "output_type": "execute_result",
          "data": {
            "text/plain": [
              "tensor([1, 2, 3])"
            ]
          },
          "metadata": {},
          "execution_count": 55
        }
      ]
    },
    {
      "cell_type": "code",
      "source": [
        "# Substract 10\n",
        "tensor - 10"
      ],
      "metadata": {
        "colab": {
          "base_uri": "https://localhost:8080/"
        },
        "id": "0c1N12ON1uV4",
        "outputId": "7954ffde-a44d-4ed0-d6bc-0b8279572e61"
      },
      "execution_count": 56,
      "outputs": [
        {
          "output_type": "execute_result",
          "data": {
            "text/plain": [
              "tensor([-9, -8, -7])"
            ]
          },
          "metadata": {},
          "execution_count": 56
        }
      ]
    },
    {
      "cell_type": "code",
      "source": [
        "# Try out PyTorch in-built functions\n",
        "torch.mul(tensor, 10)"
      ],
      "metadata": {
        "colab": {
          "base_uri": "https://localhost:8080/"
        },
        "id": "ShlJVLoa24mW",
        "outputId": "dddf3490-05a2-4238-e996-52317919a7bb"
      },
      "execution_count": 57,
      "outputs": [
        {
          "output_type": "execute_result",
          "data": {
            "text/plain": [
              "tensor([10, 20, 30])"
            ]
          },
          "metadata": {},
          "execution_count": 57
        }
      ]
    },
    {
      "cell_type": "code",
      "source": [
        "torch.add(tensor, 10)"
      ],
      "metadata": {
        "colab": {
          "base_uri": "https://localhost:8080/"
        },
        "id": "mfXMiTqS4WsD",
        "outputId": "69e87a0f-2c8a-4f20-e5b9-7e8ccb963e08"
      },
      "execution_count": 58,
      "outputs": [
        {
          "output_type": "execute_result",
          "data": {
            "text/plain": [
              "tensor([11, 12, 13])"
            ]
          },
          "metadata": {},
          "execution_count": 58
        }
      ]
    },
    {
      "cell_type": "markdown",
      "source": [
        "## Matrix multiplication\n",
        "\n",
        "Two main ways of performing multiplication in nural networks and deep learning:\n",
        "\n",
        "1. Element-wise multiplication\n",
        "2. Matrix multiplication (dot product)\n",
        "\n",
        "URL : https://www.mathsisfun.com/algebra/matrix-multiplying.html\n",
        "\n",
        "There ar two main rules that performing matrix multiplication needs to satisfy:\n",
        "1. The inner dimensions must match:\n",
        "* (3, 2) @ (3, 2) won't work\n",
        "* (2, 3) @ (3, 2) will work\n",
        "* (3, 2) @ (2, 3) will work\n",
        "2. The resulting matrix has the shape of the outer dimensions:\n",
        "* (2, 3) @ (3, 2) -> (2, 2)\n",
        "* (3, 2) @ (2, 3) -> (3, 3)"
      ],
      "metadata": {
        "id": "Fd9CxRbO8bhX"
      }
    },
    {
      "cell_type": "code",
      "source": [
        "# Element wise multiplication\n",
        "print(tensor, \"*\", tensor)\n",
        "print(f\"Equals: {tensor * tensor}\")"
      ],
      "metadata": {
        "id": "dx6XllIq7qZo",
        "colab": {
          "base_uri": "https://localhost:8080/"
        },
        "outputId": "8989eef3-9d39-41c9-f50c-7e85ec9f2245"
      },
      "execution_count": 59,
      "outputs": [
        {
          "output_type": "stream",
          "name": "stdout",
          "text": [
            "tensor([1, 2, 3]) * tensor([1, 2, 3])\n",
            "Equals: tensor([1, 4, 9])\n"
          ]
        }
      ]
    },
    {
      "cell_type": "code",
      "source": [
        "# Natrix multiplication\n",
        "torch.matmul(tensor, tensor)"
      ],
      "metadata": {
        "colab": {
          "base_uri": "https://localhost:8080/"
        },
        "id": "-KyCFTVx-bRx",
        "outputId": "1936d2c1-a80b-4082-9f18-49f37b7df380"
      },
      "execution_count": 60,
      "outputs": [
        {
          "output_type": "execute_result",
          "data": {
            "text/plain": [
              "tensor(14)"
            ]
          },
          "metadata": {},
          "execution_count": 60
        }
      ]
    },
    {
      "cell_type": "code",
      "source": [
        "tensor"
      ],
      "metadata": {
        "colab": {
          "base_uri": "https://localhost:8080/"
        },
        "id": "kqPqwqupAtye",
        "outputId": "5d3fb1ea-eb29-4bda-c90a-0544ba2f0344"
      },
      "execution_count": 61,
      "outputs": [
        {
          "output_type": "execute_result",
          "data": {
            "text/plain": [
              "tensor([1, 2, 3])"
            ]
          },
          "metadata": {},
          "execution_count": 61
        }
      ]
    },
    {
      "cell_type": "code",
      "source": [
        "# Matrix multiplication by hand\n",
        "# [1*1 + 2*2 + 3*3] = [14]"
      ],
      "metadata": {
        "id": "Z2HbaHy7AwiL"
      },
      "execution_count": 62,
      "outputs": []
    },
    {
      "cell_type": "code",
      "source": [
        "%%time\n",
        "value = 0\n",
        "for i in range(len(tensor)):\n",
        "    value += tensor[i] * tensor[i]\n",
        "print(value)"
      ],
      "metadata": {
        "colab": {
          "base_uri": "https://localhost:8080/"
        },
        "id": "-dx3hTRACl3z",
        "outputId": "21fb2808-5f1f-458f-f2e1-29f9e3246cdf"
      },
      "execution_count": 63,
      "outputs": [
        {
          "output_type": "stream",
          "name": "stdout",
          "text": [
            "tensor(14)\n",
            "CPU times: user 1.53 ms, sys: 940 µs, total: 2.47 ms\n",
            "Wall time: 2.57 ms\n"
          ]
        }
      ]
    },
    {
      "cell_type": "code",
      "source": [
        "%%time\n",
        "torch.matmul(tensor, tensor)"
      ],
      "metadata": {
        "colab": {
          "base_uri": "https://localhost:8080/"
        },
        "id": "4unnn_-FSeWC",
        "outputId": "1c3fdc1c-8715-4281-99ef-6af3a7cd5f8e"
      },
      "execution_count": 64,
      "outputs": [
        {
          "output_type": "stream",
          "name": "stdout",
          "text": [
            "CPU times: user 277 µs, sys: 36 µs, total: 313 µs\n",
            "Wall time: 268 µs\n"
          ]
        },
        {
          "output_type": "execute_result",
          "data": {
            "text/plain": [
              "tensor(14)"
            ]
          },
          "metadata": {},
          "execution_count": 64
        }
      ]
    },
    {
      "cell_type": "code",
      "source": [
        "torch.matmul(torch.rand(3, 10), torch.rand(10, 3))"
      ],
      "metadata": {
        "colab": {
          "base_uri": "https://localhost:8080/"
        },
        "id": "0c85qeGcqg4p",
        "outputId": "ddfe0939-ba12-4eb5-b6c8-49c30cc24829"
      },
      "execution_count": 65,
      "outputs": [
        {
          "output_type": "execute_result",
          "data": {
            "text/plain": [
              "tensor([[2.8436, 2.4794, 2.1919],\n",
              "        [3.8194, 2.6701, 2.9874],\n",
              "        [2.0801, 1.6681, 1.6225]])"
            ]
          },
          "metadata": {},
          "execution_count": 65
        }
      ]
    },
    {
      "cell_type": "code",
      "source": [
        "torch.matmul(torch.rand(2, 3), torch.rand(3, 2))"
      ],
      "metadata": {
        "colab": {
          "base_uri": "https://localhost:8080/"
        },
        "id": "TRDlD0h8rfB3",
        "outputId": "90f66e34-0a71-4cb6-9b90-3f4d7dc5d37a"
      },
      "execution_count": 66,
      "outputs": [
        {
          "output_type": "execute_result",
          "data": {
            "text/plain": [
              "tensor([[0.3740, 0.2985],\n",
              "        [0.6738, 0.5441]])"
            ]
          },
          "metadata": {},
          "execution_count": 66
        }
      ]
    },
    {
      "cell_type": "markdown",
      "source": [
        "### One of the most common errors in Deep Learning (shape error)"
      ],
      "metadata": {
        "id": "MqExGVPTu3d3"
      }
    },
    {
      "cell_type": "code",
      "source": [
        "# Shapes need to be in the right way\n",
        "tensor_A = torch.tensor([[1, 2],\n",
        "                         [3, 4],\n",
        "                         [5, 6]])\n",
        "\n",
        "tensor_B = torch.tensor([[7, 10],\n",
        "                         [8, 11],\n",
        "                         [9, 12]])\n",
        "\n",
        "# torch.mm(tensor_A, tensor_B) # torch.mm is the same as torch.matmul (it's an alias for writing less code)\n",
        "torch.matmul(tensor_A, tensor_B)"
      ],
      "metadata": {
        "colab": {
          "base_uri": "https://localhost:8080/",
          "height": 182
        },
        "id": "L0Jxem6wroo2",
        "outputId": "58fddbae-bc1a-4d3b-e0a7-a7eb02e50c4e"
      },
      "execution_count": 67,
      "outputs": [
        {
          "output_type": "error",
          "ename": "RuntimeError",
          "evalue": "mat1 and mat2 shapes cannot be multiplied (3x2 and 3x2)",
          "traceback": [
            "\u001b[0;31m---------------------------------------------------------------------------\u001b[0m",
            "\u001b[0;31mRuntimeError\u001b[0m                              Traceback (most recent call last)",
            "\u001b[0;32m<ipython-input-67-6dcb38acb20d>\u001b[0m in \u001b[0;36m<cell line: 11>\u001b[0;34m()\u001b[0m\n\u001b[1;32m      9\u001b[0m \u001b[0;34m\u001b[0m\u001b[0m\n\u001b[1;32m     10\u001b[0m \u001b[0;31m# torch.mm(tensor_A, tensor_B) # torch.mm is the same as torch.matmul (it's an alias for writing less code)\u001b[0m\u001b[0;34m\u001b[0m\u001b[0;34m\u001b[0m\u001b[0m\n\u001b[0;32m---> 11\u001b[0;31m \u001b[0mtorch\u001b[0m\u001b[0;34m.\u001b[0m\u001b[0mmatmul\u001b[0m\u001b[0;34m(\u001b[0m\u001b[0mtensor_A\u001b[0m\u001b[0;34m,\u001b[0m \u001b[0mtensor_B\u001b[0m\u001b[0;34m)\u001b[0m\u001b[0;34m\u001b[0m\u001b[0;34m\u001b[0m\u001b[0m\n\u001b[0m",
            "\u001b[0;31mRuntimeError\u001b[0m: mat1 and mat2 shapes cannot be multiplied (3x2 and 3x2)"
          ]
        }
      ]
    },
    {
      "cell_type": "code",
      "source": [
        "tensor_A.shape, tensor_B.shape"
      ],
      "metadata": {
        "colab": {
          "base_uri": "https://localhost:8080/"
        },
        "id": "b3W9e6JfxYN8",
        "outputId": "d8cb2133-33c8-43c8-942e-ec1903796b05"
      },
      "execution_count": 68,
      "outputs": [
        {
          "output_type": "execute_result",
          "data": {
            "text/plain": [
              "(torch.Size([3, 2]), torch.Size([3, 2]))"
            ]
          },
          "metadata": {},
          "execution_count": 68
        }
      ]
    },
    {
      "cell_type": "markdown",
      "source": [
        "To fix our tensor shape issues , we can manipulation the shape of one of our tensors using a **transpose** .\n",
        "\n",
        "A transpose switches the axes or dimensions of a given tensor"
      ],
      "metadata": {
        "id": "c0XUaobZx8tr"
      }
    },
    {
      "cell_type": "code",
      "source": [
        "tensor_A.shape, tensor_B.shape"
      ],
      "metadata": {
        "colab": {
          "base_uri": "https://localhost:8080/"
        },
        "id": "KETIlM_z2Z81",
        "outputId": "74a163ed-d4e1-4d15-b6ea-a285b7fe412f"
      },
      "execution_count": 69,
      "outputs": [
        {
          "output_type": "execute_result",
          "data": {
            "text/plain": [
              "(torch.Size([3, 2]), torch.Size([3, 2]))"
            ]
          },
          "metadata": {},
          "execution_count": 69
        }
      ]
    },
    {
      "cell_type": "code",
      "source": [
        "tensor_B, tensor_B.shape"
      ],
      "metadata": {
        "colab": {
          "base_uri": "https://localhost:8080/"
        },
        "id": "Zwl0W6RIxtae",
        "outputId": "a33e2261-fde7-4b9c-f9f3-d11eff0bf457"
      },
      "execution_count": 70,
      "outputs": [
        {
          "output_type": "execute_result",
          "data": {
            "text/plain": [
              "(tensor([[ 7, 10],\n",
              "         [ 8, 11],\n",
              "         [ 9, 12]]),\n",
              " torch.Size([3, 2]))"
            ]
          },
          "metadata": {},
          "execution_count": 70
        }
      ]
    },
    {
      "cell_type": "code",
      "source": [
        "tensor_B.T, tensor_B.T.shape"
      ],
      "metadata": {
        "colab": {
          "base_uri": "https://localhost:8080/"
        },
        "id": "VydDEu150boI",
        "outputId": "28811776-3a51-48e7-c066-7393b3a56ca6"
      },
      "execution_count": 71,
      "outputs": [
        {
          "output_type": "execute_result",
          "data": {
            "text/plain": [
              "(tensor([[ 7,  8,  9],\n",
              "         [10, 11, 12]]),\n",
              " torch.Size([2, 3]))"
            ]
          },
          "metadata": {},
          "execution_count": 71
        }
      ]
    },
    {
      "cell_type": "code",
      "source": [
        "# The operation works when tensor_B is transposed\n",
        "print(f\"Original shapes: tensor_A = {tensor_A.shape}, tensor_B = {tensor_B.shape}\")\n",
        "print(f\"New shapes: tensor_A = {tensor_A.shape} (same as above), tensor_B.T = {tensor_B.T.shape}\")\n",
        "print(f\"Multiplying: {tensor_A.shape} @ {tensor_B.T.shape} <- inner dimensions must match\")\n",
        "print(\"output:\\n\")\n",
        "output = torch.matmul(tensor_A, tensor_B.T)\n",
        "print(output)\n",
        "print(f\"\\nOutput shape: {output.shape}\")"
      ],
      "metadata": {
        "colab": {
          "base_uri": "https://localhost:8080/"
        },
        "id": "tVmnv9Av13Wk",
        "outputId": "13b31a3f-4551-4f2d-9f5c-9274351a03f1"
      },
      "execution_count": 72,
      "outputs": [
        {
          "output_type": "stream",
          "name": "stdout",
          "text": [
            "Original shapes: tensor_A = torch.Size([3, 2]), tensor_B = torch.Size([3, 2])\n",
            "New shapes: tensor_A = torch.Size([3, 2]) (same as above), tensor_B.T = torch.Size([2, 3])\n",
            "Multiplying: torch.Size([3, 2]) @ torch.Size([2, 3]) <- inner dimensions must match\n",
            "output:\n",
            "\n",
            "tensor([[ 27,  30,  33],\n",
            "        [ 61,  68,  75],\n",
            "        [ 95, 106, 117]])\n",
            "\n",
            "Output shape: torch.Size([3, 3])\n"
          ]
        }
      ]
    },
    {
      "cell_type": "markdown",
      "source": [
        "![image.png](data:image/png;base64,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)\n",
        "\n",
        "URL: http://matrixmultiplication.xyz/"
      ],
      "metadata": {
        "id": "otUSpxO4nnFX"
      }
    },
    {
      "cell_type": "markdown",
      "source": [
        "### Finding the min, max, mean, sum, etc(tensor aggregation)"
      ],
      "metadata": {
        "id": "wIHBObAWphAr"
      }
    },
    {
      "cell_type": "code",
      "source": [
        "# Create a tensor\n",
        "x = torch.arange(0, 100, 10)\n",
        "x, x.dtype"
      ],
      "metadata": {
        "id": "3aw9BOjt3gVw",
        "colab": {
          "base_uri": "https://localhost:8080/"
        },
        "outputId": "b630eb96-7d7b-476d-8702-2f266cb996eb"
      },
      "execution_count": 73,
      "outputs": [
        {
          "output_type": "execute_result",
          "data": {
            "text/plain": [
              "(tensor([ 0, 10, 20, 30, 40, 50, 60, 70, 80, 90]), torch.int64)"
            ]
          },
          "metadata": {},
          "execution_count": 73
        }
      ]
    },
    {
      "cell_type": "code",
      "source": [
        "# Find the min\n",
        "torch.min(x), x.min()"
      ],
      "metadata": {
        "colab": {
          "base_uri": "https://localhost:8080/"
        },
        "id": "Bj-lNX9Zx2Y6",
        "outputId": "9d0c9449-fefd-47ba-96f1-6631fdee72e2"
      },
      "execution_count": 74,
      "outputs": [
        {
          "output_type": "execute_result",
          "data": {
            "text/plain": [
              "(tensor(0), tensor(0))"
            ]
          },
          "metadata": {},
          "execution_count": 74
        }
      ]
    },
    {
      "cell_type": "code",
      "source": [
        "# FInd the max\n",
        "torch.max(x), x.max()"
      ],
      "metadata": {
        "colab": {
          "base_uri": "https://localhost:8080/"
        },
        "id": "Cr3GwdX4yDhX",
        "outputId": "5a58f0e8-56f3-4e60-f1d2-cdac99cb9446"
      },
      "execution_count": 75,
      "outputs": [
        {
          "output_type": "execute_result",
          "data": {
            "text/plain": [
              "(tensor(90), tensor(90))"
            ]
          },
          "metadata": {},
          "execution_count": 75
        }
      ]
    },
    {
      "cell_type": "code",
      "source": [
        "# find the mean - Note: the torch.mean()fucion requires a tensor of float32 datatype to work\n",
        "torch.mean(x.type(torch.float32)), x.type(torch.float32).mean()"
      ],
      "metadata": {
        "colab": {
          "base_uri": "https://localhost:8080/"
        },
        "id": "MZc-xyQ-yJY6",
        "outputId": "00b69188-5655-448c-858e-4e0ec5d83e23"
      },
      "execution_count": 76,
      "outputs": [
        {
          "output_type": "execute_result",
          "data": {
            "text/plain": [
              "(tensor(45.), tensor(45.))"
            ]
          },
          "metadata": {},
          "execution_count": 76
        }
      ]
    },
    {
      "cell_type": "code",
      "source": [
        "# Find the sum\n",
        "torch.sum(x), x.sum()"
      ],
      "metadata": {
        "colab": {
          "base_uri": "https://localhost:8080/"
        },
        "id": "49_JZlSUyg0h",
        "outputId": "d77e9ff7-ff31-4bca-e0d3-29aaac1f3e23"
      },
      "execution_count": 77,
      "outputs": [
        {
          "output_type": "execute_result",
          "data": {
            "text/plain": [
              "(tensor(450), tensor(450))"
            ]
          },
          "metadata": {},
          "execution_count": 77
        }
      ]
    },
    {
      "cell_type": "markdown",
      "source": [
        "### Find the positional min and max"
      ],
      "metadata": {
        "id": "ps2q4TCDP5SR"
      }
    },
    {
      "cell_type": "code",
      "source": [
        "x"
      ],
      "metadata": {
        "colab": {
          "base_uri": "https://localhost:8080/"
        },
        "id": "NwPQO-30P3kG",
        "outputId": "3a1de850-4629-4beb-9abe-1d9cbca9d4dc"
      },
      "execution_count": 78,
      "outputs": [
        {
          "output_type": "execute_result",
          "data": {
            "text/plain": [
              "tensor([ 0, 10, 20, 30, 40, 50, 60, 70, 80, 90])"
            ]
          },
          "metadata": {},
          "execution_count": 78
        }
      ]
    },
    {
      "cell_type": "code",
      "source": [
        "# Create a tensor\n",
        "x = torch.arange(1, 100, 10)\n",
        "x, x.dtype"
      ],
      "metadata": {
        "colab": {
          "base_uri": "https://localhost:8080/"
        },
        "id": "DibeENKXYO-v",
        "outputId": "4d7ec5a8-9aef-4d3a-c3ac-748e996ef799"
      },
      "execution_count": 79,
      "outputs": [
        {
          "output_type": "execute_result",
          "data": {
            "text/plain": [
              "(tensor([ 1, 11, 21, 31, 41, 51, 61, 71, 81, 91]), torch.int64)"
            ]
          },
          "metadata": {},
          "execution_count": 79
        }
      ]
    },
    {
      "cell_type": "code",
      "source": [
        "x"
      ],
      "metadata": {
        "colab": {
          "base_uri": "https://localhost:8080/"
        },
        "id": "fOdbcIHjYXsy",
        "outputId": "12153c21-e274-4e69-fff9-f4ba9ca7876f"
      },
      "execution_count": 81,
      "outputs": [
        {
          "output_type": "execute_result",
          "data": {
            "text/plain": [
              "tensor([ 1, 11, 21, 31, 41, 51, 61, 71, 81, 91])"
            ]
          },
          "metadata": {},
          "execution_count": 81
        }
      ]
    },
    {
      "cell_type": "code",
      "source": [
        "# Find the position is tensor that has the minimum value with argmin() -> returns index position of target tensor where the minimum value occurse\n",
        "x.argmin()"
      ],
      "metadata": {
        "colab": {
          "base_uri": "https://localhost:8080/"
        },
        "id": "FvSBNaeVREnN",
        "outputId": "6791ac89-1bbf-49be-b449-75402a879637"
      },
      "execution_count": 80,
      "outputs": [
        {
          "output_type": "execute_result",
          "data": {
            "text/plain": [
              "tensor(0)"
            ]
          },
          "metadata": {},
          "execution_count": 80
        }
      ]
    },
    {
      "cell_type": "code",
      "source": [
        "x[0]"
      ],
      "metadata": {
        "colab": {
          "base_uri": "https://localhost:8080/"
        },
        "id": "CbxGMzYIRIet",
        "outputId": "aaf57547-c545-4f03-b8a7-7cf3599ea3a4"
      },
      "execution_count": 82,
      "outputs": [
        {
          "output_type": "execute_result",
          "data": {
            "text/plain": [
              "tensor(1)"
            ]
          },
          "metadata": {},
          "execution_count": 82
        }
      ]
    },
    {
      "cell_type": "code",
      "source": [
        "# Find the posotion in tensor that has the maximum value with argmax()\n",
        "x.argmax()"
      ],
      "metadata": {
        "colab": {
          "base_uri": "https://localhost:8080/"
        },
        "id": "vfyNo5cRRK3q",
        "outputId": "e27fce62-1eb7-4bbb-bfd5-66a0aa80ce73"
      },
      "execution_count": 83,
      "outputs": [
        {
          "output_type": "execute_result",
          "data": {
            "text/plain": [
              "tensor(9)"
            ]
          },
          "metadata": {},
          "execution_count": 83
        }
      ]
    },
    {
      "cell_type": "code",
      "source": [
        "x[9]"
      ],
      "metadata": {
        "colab": {
          "base_uri": "https://localhost:8080/"
        },
        "id": "Bdgfmyw-Y0fv",
        "outputId": "91968e55-47bb-4414-82d0-2d2e6905de72"
      },
      "execution_count": 84,
      "outputs": [
        {
          "output_type": "execute_result",
          "data": {
            "text/plain": [
              "tensor(91)"
            ]
          },
          "metadata": {},
          "execution_count": 84
        }
      ]
    },
    {
      "cell_type": "markdown",
      "source": [
        "## Reshaping, stacking, squeezing and unsqueezing tensors\n",
        "* **Reshaping -** reshapes an input tensor to defind shape\n",
        "* **View -** Return a view of an input tensor of certain hape but keep the same memory as the origin tensor\n",
        "* **Stacking -** combine multile tensors on top of each othe (vstack) or side by side (hstack)\n",
        "* **Squeeze -** removes all 1 dimensions from a tensor\n",
        "* **Unsqueeze -** add a 1 dimention to target tensor\n",
        "* **Permute -** Return a view of the input with dimentions permuted (swapped) in certain way"
      ],
      "metadata": {
        "id": "6s1HYEbfwNDG"
      }
    },
    {
      "cell_type": "code",
      "source": [
        "# Let's create a tensor\n",
        "import torch\n",
        "x = torch.arange(1., 10.)\n",
        "x, x.shape"
      ],
      "metadata": {
        "colab": {
          "base_uri": "https://localhost:8080/"
        },
        "id": "LQHJRPM0Y2kg",
        "outputId": "5a9799c0-a694-4e48-e5c3-e566c1400920"
      },
      "execution_count": 85,
      "outputs": [
        {
          "output_type": "execute_result",
          "data": {
            "text/plain": [
              "(tensor([1., 2., 3., 4., 5., 6., 7., 8., 9.]), torch.Size([9]))"
            ]
          },
          "metadata": {},
          "execution_count": 85
        }
      ]
    },
    {
      "cell_type": "code",
      "source": [
        "# Add an extra dimension\n",
        "\n",
        "x_reshaped = x.reshape(9, 1)\n",
        "x_reshaped, x_reshaped.shape"
      ],
      "metadata": {
        "colab": {
          "base_uri": "https://localhost:8080/"
        },
        "id": "igKAYBcAFW8l",
        "outputId": "b9b20b66-f7a2-4d61-da09-86cfb469851a"
      },
      "execution_count": 86,
      "outputs": [
        {
          "output_type": "execute_result",
          "data": {
            "text/plain": [
              "(tensor([[1.],\n",
              "         [2.],\n",
              "         [3.],\n",
              "         [4.],\n",
              "         [5.],\n",
              "         [6.],\n",
              "         [7.],\n",
              "         [8.],\n",
              "         [9.]]),\n",
              " torch.Size([9, 1]))"
            ]
          },
          "metadata": {},
          "execution_count": 86
        }
      ]
    },
    {
      "cell_type": "code",
      "source": [
        "x_reshaped = x.reshape(1, 9)\n",
        "x_reshaped, x_reshaped.shape"
      ],
      "metadata": {
        "colab": {
          "base_uri": "https://localhost:8080/"
        },
        "id": "Kx1zCmyNF6OC",
        "outputId": "7ad3ac6d-847e-452c-d1a6-c684194cfcea"
      },
      "execution_count": 87,
      "outputs": [
        {
          "output_type": "execute_result",
          "data": {
            "text/plain": [
              "(tensor([[1., 2., 3., 4., 5., 6., 7., 8., 9.]]), torch.Size([1, 9]))"
            ]
          },
          "metadata": {},
          "execution_count": 87
        }
      ]
    },
    {
      "cell_type": "code",
      "source": [
        "# Change the view\n",
        "z = x.view(1, 9)\n",
        "z, z.shape"
      ],
      "metadata": {
        "colab": {
          "base_uri": "https://localhost:8080/"
        },
        "id": "hGeX00wNGEav",
        "outputId": "06a13782-c5ee-41ad-99c7-221d79ea639d"
      },
      "execution_count": 88,
      "outputs": [
        {
          "output_type": "execute_result",
          "data": {
            "text/plain": [
              "(tensor([[1., 2., 3., 4., 5., 6., 7., 8., 9.]]), torch.Size([1, 9]))"
            ]
          },
          "metadata": {},
          "execution_count": 88
        }
      ]
    },
    {
      "cell_type": "code",
      "source": [
        "# Changing z changes x (beacuse a view of a tensor shares the same memory as the original input )\n",
        "z[:, 0] = 5\n",
        "z, x"
      ],
      "metadata": {
        "colab": {
          "base_uri": "https://localhost:8080/"
        },
        "id": "q6OX-JEQNmeH",
        "outputId": "7a9f6786-e718-484c-af6a-508e54686a08"
      },
      "execution_count": 89,
      "outputs": [
        {
          "output_type": "execute_result",
          "data": {
            "text/plain": [
              "(tensor([[5., 2., 3., 4., 5., 6., 7., 8., 9.]]),\n",
              " tensor([5., 2., 3., 4., 5., 6., 7., 8., 9.]))"
            ]
          },
          "metadata": {},
          "execution_count": 89
        }
      ]
    },
    {
      "cell_type": "code",
      "source": [
        "# Stack tensors on top each other\n",
        "x_stacked = torch.stack([x, x, x, x], dim=0)\n",
        "x_stacked"
      ],
      "metadata": {
        "colab": {
          "base_uri": "https://localhost:8080/"
        },
        "id": "7xQ4SmbAOUn2",
        "outputId": "48d3e4cb-489d-4ff2-8578-f4909cc70eab"
      },
      "execution_count": 90,
      "outputs": [
        {
          "output_type": "execute_result",
          "data": {
            "text/plain": [
              "tensor([[5., 2., 3., 4., 5., 6., 7., 8., 9.],\n",
              "        [5., 2., 3., 4., 5., 6., 7., 8., 9.],\n",
              "        [5., 2., 3., 4., 5., 6., 7., 8., 9.],\n",
              "        [5., 2., 3., 4., 5., 6., 7., 8., 9.]])"
            ]
          },
          "metadata": {},
          "execution_count": 90
        }
      ]
    },
    {
      "cell_type": "code",
      "source": [
        "# torch.squeeze() - removes all single dimentions from a target tensor\n",
        "print(f\"Previous tensor: {x_reshaped}\")\n",
        "print(f\"Previous shape: {x_reshaped.shape}\")\n",
        "\n",
        "# Remove extra dimentions from x_reshaped\n",
        "x_squeezed = x_reshaped.squeeze()\n",
        "print(f\"\\nNew tensor: {x_squeezed}\")\n",
        "print(f\"New shape: {x_squeezed.shape}\")"
      ],
      "metadata": {
        "colab": {
          "base_uri": "https://localhost:8080/"
        },
        "id": "DgvCbdrfUiKC",
        "outputId": "73be87a4-574f-4091-b381-44a62e3d00bb"
      },
      "execution_count": 91,
      "outputs": [
        {
          "output_type": "stream",
          "name": "stdout",
          "text": [
            "Previous tensor: tensor([[5., 2., 3., 4., 5., 6., 7., 8., 9.]])\n",
            "Previous shape: torch.Size([1, 9])\n",
            "\n",
            "New tensor: tensor([5., 2., 3., 4., 5., 6., 7., 8., 9.])\n",
            "New shape: torch.Size([9])\n"
          ]
        }
      ]
    },
    {
      "cell_type": "markdown",
      "source": [
        "## Squeezing, unsqueezing and permuting\n",
        "URL: https://pytorch.org/docs/stable/generated/torch.mean.html"
      ],
      "metadata": {
        "id": "GRfxnHJYio22"
      }
    },
    {
      "cell_type": "code",
      "source": [
        "# torch.unsqueeze() - adds a single dimension to a target tensor at a specific dim (dimension)\n",
        "print(f\"Previous target: {x_squeezed}\")\n",
        "print(f\"Previous shape: {x_squeezed.shape}\")\n",
        "\n",
        "# Add an extra dimension with unsqueeze\n",
        "x_unsqueezed = x_squeezed.unsqueeze(dim=0)\n",
        "print(f\"\\nNew tensor: {x_unsqueezed}\")\n",
        "print(f\"New shape: {x_unsqueezed.shape}\")"
      ],
      "metadata": {
        "colab": {
          "base_uri": "https://localhost:8080/"
        },
        "id": "-mSM9n2xW3vW",
        "outputId": "a3eba8d9-f25e-4d7d-a033-8d4da9c01959"
      },
      "execution_count": 92,
      "outputs": [
        {
          "output_type": "stream",
          "name": "stdout",
          "text": [
            "Previous target: tensor([5., 2., 3., 4., 5., 6., 7., 8., 9.])\n",
            "Previous shape: torch.Size([9])\n",
            "\n",
            "New tensor: tensor([[5., 2., 3., 4., 5., 6., 7., 8., 9.]])\n",
            "New shape: torch.Size([1, 9])\n"
          ]
        }
      ]
    },
    {
      "cell_type": "code",
      "source": [
        "# torch.permute - rearranges the dimentions of a target tensor in a specified order\n",
        "x_original = torch.rand(size=(224, 224, 3)) # [height, width, color_channels]\n",
        "\n",
        "# Permute th original tensor to rearrange the axis (or dim ) order\n",
        "x_permuted = x_original.permute(2, 0, 1) # shifts axis 0->1, 1->2, 2->0\n",
        "\n",
        "print(f\"Previous shape: {x_original.shape}\")\n",
        "print(f\"New shape: {x_permuted.shape}\") # [color_channels, height, width]"
      ],
      "metadata": {
        "colab": {
          "base_uri": "https://localhost:8080/"
        },
        "id": "Xyz5_0P2hU_2",
        "outputId": "9e43681c-95db-4cc5-8058-cf66a3e2155f"
      },
      "execution_count": 93,
      "outputs": [
        {
          "output_type": "stream",
          "name": "stdout",
          "text": [
            "Previous shape: torch.Size([224, 224, 3])\n",
            "New shape: torch.Size([3, 224, 224])\n"
          ]
        }
      ]
    },
    {
      "cell_type": "code",
      "source": [
        "x_original[0, 0, 0] = 728218\n",
        "x_original[0, 0, 0], x_permuted[0, 0, 0]"
      ],
      "metadata": {
        "id": "JH8C5OlqW8Ns",
        "colab": {
          "base_uri": "https://localhost:8080/"
        },
        "outputId": "551c53f0-d538-4565-b29b-a6322cc1cf0d"
      },
      "execution_count": 94,
      "outputs": [
        {
          "output_type": "execute_result",
          "data": {
            "text/plain": [
              "(tensor(728218.), tensor(728218.))"
            ]
          },
          "metadata": {},
          "execution_count": 94
        }
      ]
    },
    {
      "cell_type": "markdown",
      "source": [
        "## Indexing (slecting data from tensors)\n",
        "Indexing with PyTorch is similar to indexing with Numpy"
      ],
      "metadata": {
        "id": "Hhc8cGJFjRne"
      }
    },
    {
      "cell_type": "code",
      "source": [
        "# Create a tensor\n",
        "import torch\n",
        "x = torch.arange(1, 10).reshape(1, 3, 3)\n",
        "x, x.shape"
      ],
      "metadata": {
        "colab": {
          "base_uri": "https://localhost:8080/"
        },
        "id": "0lAOKfxgXHwW",
        "outputId": "95572c9b-5ef5-4da9-eeea-1ce0d59faa3e"
      },
      "execution_count": 95,
      "outputs": [
        {
          "output_type": "execute_result",
          "data": {
            "text/plain": [
              "(tensor([[[1, 2, 3],\n",
              "          [4, 5, 6],\n",
              "          [7, 8, 9]]]),\n",
              " torch.Size([1, 3, 3]))"
            ]
          },
          "metadata": {},
          "execution_count": 95
        }
      ]
    },
    {
      "cell_type": "code",
      "source": [
        "# Let's index on our new tensor\n",
        "x[0]"
      ],
      "metadata": {
        "colab": {
          "base_uri": "https://localhost:8080/"
        },
        "id": "9nLD6EY5nMDZ",
        "outputId": "49d89db9-9534-4444-cc38-63aae78d3041"
      },
      "execution_count": 96,
      "outputs": [
        {
          "output_type": "execute_result",
          "data": {
            "text/plain": [
              "tensor([[1, 2, 3],\n",
              "        [4, 5, 6],\n",
              "        [7, 8, 9]])"
            ]
          },
          "metadata": {},
          "execution_count": 96
        }
      ]
    },
    {
      "cell_type": "code",
      "source": [
        "# Let;s index on the middle bracket (dim=1)\n",
        "x[0][0]"
      ],
      "metadata": {
        "colab": {
          "base_uri": "https://localhost:8080/"
        },
        "id": "U_o3zKXPnSgU",
        "outputId": "e4ea2806-ef24-421d-db44-af86fd9e310a"
      },
      "execution_count": 97,
      "outputs": [
        {
          "output_type": "execute_result",
          "data": {
            "text/plain": [
              "tensor([1, 2, 3])"
            ]
          },
          "metadata": {},
          "execution_count": 97
        }
      ]
    },
    {
      "cell_type": "code",
      "source": [
        "# Let's index on the most inner bracket (last dimention)\n",
        "x[0][0][0]"
      ],
      "metadata": {
        "colab": {
          "base_uri": "https://localhost:8080/"
        },
        "id": "NbmwigQfn8T6",
        "outputId": "70537f71-44f6-4f0c-dc59-e96ca608b7ae"
      },
      "execution_count": 98,
      "outputs": [
        {
          "output_type": "execute_result",
          "data": {
            "text/plain": [
              "tensor(1)"
            ]
          },
          "metadata": {},
          "execution_count": 98
        }
      ]
    },
    {
      "cell_type": "code",
      "source": [
        "x[0][0][1]"
      ],
      "metadata": {
        "colab": {
          "base_uri": "https://localhost:8080/"
        },
        "id": "qcjiwnIPoKPn",
        "outputId": "0fd492e1-2964-4867-f09c-861bcbd6b7bf"
      },
      "execution_count": 99,
      "outputs": [
        {
          "output_type": "execute_result",
          "data": {
            "text/plain": [
              "tensor(2)"
            ]
          },
          "metadata": {},
          "execution_count": 99
        }
      ]
    },
    {
      "cell_type": "code",
      "source": [
        "x[0][0][2]"
      ],
      "metadata": {
        "colab": {
          "base_uri": "https://localhost:8080/"
        },
        "id": "1T1NEdofoNU1",
        "outputId": "26f7b652-877d-4007-c13c-cd842a15a6dd"
      },
      "execution_count": 100,
      "outputs": [
        {
          "output_type": "execute_result",
          "data": {
            "text/plain": [
              "tensor(3)"
            ]
          },
          "metadata": {},
          "execution_count": 100
        }
      ]
    },
    {
      "cell_type": "code",
      "source": [
        "x[0][1][1]"
      ],
      "metadata": {
        "colab": {
          "base_uri": "https://localhost:8080/"
        },
        "id": "jIGE71I-oSNV",
        "outputId": "8a75399e-cfee-4a5e-a3ac-bfb46e73eda7"
      },
      "execution_count": 101,
      "outputs": [
        {
          "output_type": "execute_result",
          "data": {
            "text/plain": [
              "tensor(5)"
            ]
          },
          "metadata": {},
          "execution_count": 101
        }
      ]
    },
    {
      "cell_type": "code",
      "source": [
        "x[0][1][2]"
      ],
      "metadata": {
        "colab": {
          "base_uri": "https://localhost:8080/"
        },
        "id": "EoM4jzFbu5Bw",
        "outputId": "777f0408-bdc3-4212-9095-21a20989336f"
      },
      "execution_count": 102,
      "outputs": [
        {
          "output_type": "execute_result",
          "data": {
            "text/plain": [
              "tensor(6)"
            ]
          },
          "metadata": {},
          "execution_count": 102
        }
      ]
    },
    {
      "cell_type": "code",
      "source": [
        "x[0][2][0]"
      ],
      "metadata": {
        "colab": {
          "base_uri": "https://localhost:8080/"
        },
        "id": "j-IY9gJRu6aE",
        "outputId": "ae5b6a93-966d-4f56-95e3-8efc004cbdb5"
      },
      "execution_count": 103,
      "outputs": [
        {
          "output_type": "execute_result",
          "data": {
            "text/plain": [
              "tensor(7)"
            ]
          },
          "metadata": {},
          "execution_count": 103
        }
      ]
    },
    {
      "cell_type": "code",
      "source": [
        "x[0][2][1]"
      ],
      "metadata": {
        "colab": {
          "base_uri": "https://localhost:8080/"
        },
        "id": "IiYPxK2nvBGS",
        "outputId": "b4ff95da-a2b2-48a2-f814-d326f655770f"
      },
      "execution_count": 104,
      "outputs": [
        {
          "output_type": "execute_result",
          "data": {
            "text/plain": [
              "tensor(8)"
            ]
          },
          "metadata": {},
          "execution_count": 104
        }
      ]
    },
    {
      "cell_type": "code",
      "source": [
        "x[0][2][2]"
      ],
      "metadata": {
        "colab": {
          "base_uri": "https://localhost:8080/"
        },
        "id": "Wxq45OeYvE30",
        "outputId": "4c74d196-4fb4-416a-9c61-96ebb91e2206"
      },
      "execution_count": 105,
      "outputs": [
        {
          "output_type": "execute_result",
          "data": {
            "text/plain": [
              "tensor(9)"
            ]
          },
          "metadata": {},
          "execution_count": 105
        }
      ]
    },
    {
      "cell_type": "code",
      "source": [
        "# You can also \":\" to select \"all\" of a target dimension\n",
        "x[:, 0]"
      ],
      "metadata": {
        "colab": {
          "base_uri": "https://localhost:8080/"
        },
        "id": "VAfc_S9ApdkF",
        "outputId": "99466042-1244-4e0d-8fb0-d933ff6bc6aa"
      },
      "execution_count": 106,
      "outputs": [
        {
          "output_type": "execute_result",
          "data": {
            "text/plain": [
              "tensor([[1, 2, 3]])"
            ]
          },
          "metadata": {},
          "execution_count": 106
        }
      ]
    },
    {
      "cell_type": "code",
      "source": [
        "# Get all values of 0th and 1st dimentsions but only index 1 and 2nd dimension\n",
        "x[:, :, 1]"
      ],
      "metadata": {
        "colab": {
          "base_uri": "https://localhost:8080/"
        },
        "id": "MRT53-kDr3R3",
        "outputId": "8311113f-2828-4c11-f858-071fe908ca4f"
      },
      "execution_count": 107,
      "outputs": [
        {
          "output_type": "execute_result",
          "data": {
            "text/plain": [
              "tensor([[2, 5, 8]])"
            ]
          },
          "metadata": {},
          "execution_count": 107
        }
      ]
    },
    {
      "cell_type": "code",
      "source": [
        "# Get all values of the 0 dimension but only the 1 index value of 1st and 2nd dimension\n",
        "x[:, 1, 1]"
      ],
      "metadata": {
        "colab": {
          "base_uri": "https://localhost:8080/"
        },
        "id": "eCRq07lcsWE1",
        "outputId": "45703cc0-806f-414c-e01d-c02a93c1c952"
      },
      "execution_count": 108,
      "outputs": [
        {
          "output_type": "execute_result",
          "data": {
            "text/plain": [
              "tensor([5])"
            ]
          },
          "metadata": {},
          "execution_count": 108
        }
      ]
    },
    {
      "cell_type": "code",
      "source": [
        "x[0, 1, 1]"
      ],
      "metadata": {
        "colab": {
          "base_uri": "https://localhost:8080/"
        },
        "id": "z5FnfAAis-OZ",
        "outputId": "77b74d80-c6e7-4985-8258-4c65b707b0dd"
      },
      "execution_count": 109,
      "outputs": [
        {
          "output_type": "execute_result",
          "data": {
            "text/plain": [
              "tensor(5)"
            ]
          },
          "metadata": {},
          "execution_count": 109
        }
      ]
    },
    {
      "cell_type": "code",
      "source": [
        "# Getindex 0 of oth and 1st dimension and all values of 2nd dimension\n",
        "x[0, 0, :]"
      ],
      "metadata": {
        "colab": {
          "base_uri": "https://localhost:8080/"
        },
        "id": "yLiwMEvatBDY",
        "outputId": "7e1723a9-5a5d-4c0d-fe6d-3479d5e6dc16"
      },
      "execution_count": 110,
      "outputs": [
        {
          "output_type": "execute_result",
          "data": {
            "text/plain": [
              "tensor([1, 2, 3])"
            ]
          },
          "metadata": {},
          "execution_count": 110
        }
      ]
    },
    {
      "cell_type": "code",
      "source": [
        "x"
      ],
      "metadata": {
        "colab": {
          "base_uri": "https://localhost:8080/"
        },
        "id": "XYcE9oEdvWu0",
        "outputId": "94afef69-a5a6-4fb7-e90d-34f04a9dcd64"
      },
      "execution_count": 111,
      "outputs": [
        {
          "output_type": "execute_result",
          "data": {
            "text/plain": [
              "tensor([[[1, 2, 3],\n",
              "         [4, 5, 6],\n",
              "         [7, 8, 9]]])"
            ]
          },
          "metadata": {},
          "execution_count": 111
        }
      ]
    },
    {
      "cell_type": "code",
      "source": [
        "# Index on x to return 9\n",
        "\n",
        "print(x[0][2][2])\n",
        "\n",
        "# Index on x to return 3, 6, 9\n",
        "print(x[:, :, 2])\n"
      ],
      "metadata": {
        "colab": {
          "base_uri": "https://localhost:8080/"
        },
        "id": "pzmJX0jRty_W",
        "outputId": "2386b34d-c700-4b1d-b108-54f5098d5992"
      },
      "execution_count": 112,
      "outputs": [
        {
          "output_type": "stream",
          "name": "stdout",
          "text": [
            "tensor(9)\n",
            "tensor([[3, 6, 9]])\n"
          ]
        }
      ]
    },
    {
      "cell_type": "markdown",
      "source": [
        "## PyTorch tensor & NumPy\n",
        "\n",
        "NumPy is a popular scientific python numerical computing libarary.\n",
        "And because of this , PyTorch has functionality to interact with it.\n",
        "\n",
        "* Data in NumPy, want in PyTorch tensor -> `torch.from_numpy(ndarray)`\n",
        "* PyTorch tensor -> Numpy -> `torch.Tensor.numpy()`\n",
        "\n",
        "Url: https://pytorch.org/docs/stable/generated/torch.from_numpy.html\n"
      ],
      "metadata": {
        "id": "-bHOAU6TvjN5"
      }
    },
    {
      "cell_type": "code",
      "source": [
        "# NumPY array to tensor\n",
        "import torch\n",
        "import numpy as np\n",
        "\n",
        "array = np.arange(1.0, 8.0)\n",
        "tensor = torch.from_numpy(array) # warning: when converting from numpy -> pytorch, pytorch reflects numpy's default datatype of float64 unless specified otherwise\n",
        "array, tensor\n"
      ],
      "metadata": {
        "id": "fTjwSGSGuYzy",
        "colab": {
          "base_uri": "https://localhost:8080/"
        },
        "outputId": "2406eb69-0749-4f73-c076-1d85c01faf74"
      },
      "execution_count": 113,
      "outputs": [
        {
          "output_type": "execute_result",
          "data": {
            "text/plain": [
              "(array([1., 2., 3., 4., 5., 6., 7.]),\n",
              " tensor([1., 2., 3., 4., 5., 6., 7.], dtype=torch.float64))"
            ]
          },
          "metadata": {},
          "execution_count": 113
        }
      ]
    },
    {
      "cell_type": "code",
      "source": [
        "array.dtype"
      ],
      "metadata": {
        "colab": {
          "base_uri": "https://localhost:8080/"
        },
        "id": "2xfOBXFzPuAM",
        "outputId": "8d604e0e-477f-4325-e007-de4be74823f8"
      },
      "execution_count": 114,
      "outputs": [
        {
          "output_type": "execute_result",
          "data": {
            "text/plain": [
              "dtype('float64')"
            ]
          },
          "metadata": {},
          "execution_count": 114
        }
      ]
    },
    {
      "cell_type": "code",
      "source": [
        "torch.arange(1.0, 8.0).dtype"
      ],
      "metadata": {
        "colab": {
          "base_uri": "https://localhost:8080/"
        },
        "id": "sKidSIGAP7FN",
        "outputId": "f57be50e-0017-4abd-b1a5-07ba5341e80a"
      },
      "execution_count": 115,
      "outputs": [
        {
          "output_type": "execute_result",
          "data": {
            "text/plain": [
              "torch.float32"
            ]
          },
          "metadata": {},
          "execution_count": 115
        }
      ]
    },
    {
      "cell_type": "code",
      "source": [
        "# Change the value of array , what will this do to 'tensor'?\n",
        "array = array + 1\n",
        "array, tensor"
      ],
      "metadata": {
        "colab": {
          "base_uri": "https://localhost:8080/"
        },
        "id": "7CD16WhbQC4p",
        "outputId": "8086b8ca-7b10-400c-8847-d692e22c38ec"
      },
      "execution_count": 116,
      "outputs": [
        {
          "output_type": "execute_result",
          "data": {
            "text/plain": [
              "(array([2., 3., 4., 5., 6., 7., 8.]),\n",
              " tensor([1., 2., 3., 4., 5., 6., 7.], dtype=torch.float64))"
            ]
          },
          "metadata": {},
          "execution_count": 116
        }
      ]
    },
    {
      "cell_type": "code",
      "source": [
        "# Tensor to NumPy array\n",
        "\n",
        "tensor = torch.ones(7)\n",
        "numpy_tensor = tensor.numpy()\n",
        "tensor, numpy_tensor"
      ],
      "metadata": {
        "colab": {
          "base_uri": "https://localhost:8080/"
        },
        "id": "77eI1jkaQYsK",
        "outputId": "1014902e-c0c2-44d4-8bf4-a3e4af89b485"
      },
      "execution_count": 117,
      "outputs": [
        {
          "output_type": "execute_result",
          "data": {
            "text/plain": [
              "(tensor([1., 1., 1., 1., 1., 1., 1.]),\n",
              " array([1., 1., 1., 1., 1., 1., 1.], dtype=float32))"
            ]
          },
          "metadata": {},
          "execution_count": 117
        }
      ]
    },
    {
      "cell_type": "code",
      "source": [
        "numpy_tensor.dtype"
      ],
      "metadata": {
        "colab": {
          "base_uri": "https://localhost:8080/"
        },
        "id": "cPeSO347UQnC",
        "outputId": "ead56ff2-0acf-4ee5-e979-1ee16623a0fe"
      },
      "execution_count": 118,
      "outputs": [
        {
          "output_type": "execute_result",
          "data": {
            "text/plain": [
              "dtype('float32')"
            ]
          },
          "metadata": {},
          "execution_count": 118
        }
      ]
    },
    {
      "cell_type": "code",
      "source": [
        "# Change the tensor , what happens to `numpy_tensor`?\n",
        "tensor = tensor + 1\n",
        "tensor, numpy_tensor"
      ],
      "metadata": {
        "colab": {
          "base_uri": "https://localhost:8080/"
        },
        "id": "MXpZ2lVLUXl7",
        "outputId": "a949bc5a-9d62-4b32-b267-948b1a9213cb"
      },
      "execution_count": 119,
      "outputs": [
        {
          "output_type": "execute_result",
          "data": {
            "text/plain": [
              "(tensor([2., 2., 2., 2., 2., 2., 2.]),\n",
              " array([1., 1., 1., 1., 1., 1., 1.], dtype=float32))"
            ]
          },
          "metadata": {},
          "execution_count": 119
        }
      ]
    },
    {
      "cell_type": "markdown",
      "source": [
        "## Reproducbility (trying to take random out random\n",
        "In short how a neural network learns:\n",
        "\n",
        "`start with random number -> tensor operations -> update random numbers to try and make them better representations of the data -> again -> data again...`\n",
        "\n",
        "\n",
        "To reduce the rwndomness in neural networks asd PyTorch comes the concept of a **random seed**.\n",
        "\n",
        "Essentially what the random seed does is \"flavour\" the randomness."
      ],
      "metadata": {
        "id": "zpOGPHiLU51q"
      }
    },
    {
      "cell_type": "code",
      "source": [
        "import torch\n",
        "\n",
        "# Create two random tensors\n",
        "random_tensor_A = torch.rand(3, 4)\n",
        "random_tensor_B = torch.rand(3, 4)\n",
        "\n",
        "print(random_tensor_A)\n",
        "print(random_tensor_B)\n",
        "print(random_tensor_A == random_tensor_B)"
      ],
      "metadata": {
        "colab": {
          "base_uri": "https://localhost:8080/"
        },
        "id": "iRMFmKt9UnpU",
        "outputId": "2848e7f9-2aae-45ed-b5ea-0d3b51e52a62"
      },
      "execution_count": 120,
      "outputs": [
        {
          "output_type": "stream",
          "name": "stdout",
          "text": [
            "tensor([[0.2246, 0.8882, 0.6782, 0.4506],\n",
            "        [0.3720, 0.0870, 0.4854, 0.0720],\n",
            "        [0.0387, 0.7877, 0.1864, 0.2378]])\n",
            "tensor([[0.6387, 0.2811, 0.6771, 0.7938],\n",
            "        [0.4476, 0.0430, 0.5626, 0.2678],\n",
            "        [0.6515, 0.3368, 0.3304, 0.3436]])\n",
            "tensor([[False, False, False, False],\n",
            "        [False, False, False, False],\n",
            "        [False, False, False, False]])\n"
          ]
        }
      ]
    },
    {
      "cell_type": "code",
      "source": [
        "# Let's make some random but reproducible tensors\n",
        "import torch\n",
        "\n",
        "# Set the random seed\n",
        "RANDOM_SEED = 42\n",
        "torch.manual_seed(RANDOM_SEED)\n",
        "\n",
        "random_tensor_C = torch.rand(3, 4)\n",
        "\n",
        "torch.manual_seed(RANDOM_SEED)\n",
        "random_tensor_D = torch.rand(3, 4)\n",
        "\n",
        "print(random_tensor_C)\n",
        "print(random_tensor_D)\n",
        "print(random_tensor_C == random_tensor_D)"
      ],
      "metadata": {
        "colab": {
          "base_uri": "https://localhost:8080/"
        },
        "id": "ViAm0SvGXyLl",
        "outputId": "768410fd-80b5-4479-f0bd-00e4539271d6"
      },
      "execution_count": 121,
      "outputs": [
        {
          "output_type": "stream",
          "name": "stdout",
          "text": [
            "tensor([[0.8823, 0.9150, 0.3829, 0.9593],\n",
            "        [0.3904, 0.6009, 0.2566, 0.7936],\n",
            "        [0.9408, 0.1332, 0.9346, 0.5936]])\n",
            "tensor([[0.8823, 0.9150, 0.3829, 0.9593],\n",
            "        [0.3904, 0.6009, 0.2566, 0.7936],\n",
            "        [0.9408, 0.1332, 0.9346, 0.5936]])\n",
            "tensor([[True, True, True, True],\n",
            "        [True, True, True, True],\n",
            "        [True, True, True, True]])\n"
          ]
        }
      ]
    },
    {
      "cell_type": "markdown",
      "source": [
        "Extra resources for reproducibility:\n",
        "* https://pytorch.org/docs/stable/notes/randomness.html\n",
        "* https://en.wikipedia.org/wiki/Random_seed"
      ],
      "metadata": {
        "id": "SLYfkybDbXDE"
      }
    },
    {
      "cell_type": "markdown",
      "source": [
        "## Running tensors and PyTorch objects on the GPUs (and making faster computations)\n",
        "\n",
        "GPUs = fater computation on numbers, thanks to CUDA + NVIDIA hardware + PyTorch working behind the scenes to  make eberything hunky dory (good)."
      ],
      "metadata": {
        "id": "PwcaVvDzcVfT"
      }
    },
    {
      "cell_type": "markdown",
      "source": [
        "### Getting GPU\n",
        "\n",
        "1. Easiest - Use Google Colab for a free GPU (options to upgrade as well)\n",
        "2. Use your own GPU - takes a little bit of setup and requires the investment of\n",
        "purchasing a GPU, there's lots of options..., see this post for what option to get:\n",
        "https://timdettmers.com/2023/01/30/which-gpu-for-deep-learning/\n",
        "\n",
        "3. Use cloud computing - GCP, AWS, Azure, these services allow you to rent\n",
        "computers on the cloud and access them\n",
        "\n",
        "For 2, 3 PyTorch + GPU drivers (CUDA) takes a little bit of setting up, to do this, refer to PyTorch setup documentation: https://pytorch.org/get-started/locally/"
      ],
      "metadata": {
        "id": "qcn7DHl3f5GQ"
      }
    },
    {
      "cell_type": "markdown",
      "source": [
        "\n",
        "### 1. Getting a GPU\n",
        "\n",
        "You may already know what's going on when I say GPU. But if not, there are a few ways to get access to one.\n",
        "\n",
        "| **Method** | **Difficulty to setup** | **Pros** | **Cons** | **How to setup** |\n",
        "| ----- | ----- | ----- | ----- | ----- |\n",
        "| Google Colab | Easy | Free to use, almost zero setup required, can share work with others as easy as a link | Doesn't save your data outputs, limited compute, subject to timeouts | [Follow the Google Colab Guide](https://colab.research.google.com/notebooks/gpu.ipynb) |\n",
        "| Use your own | Medium | Run everything locally on your own machine | GPUs aren't free, require upfront cost | Follow the [PyTorch installation guidelines](https://pytorch.org/get-started/locally/) |\n",
        "| Cloud computing (AWS, GCP, Azure) | Medium-Hard | Small upfront cost, access to almost infinite compute | Can get expensive if running continually, takes some time to setup right | Follow the [PyTorch installation guidelines](https://pytorch.org/get-started/cloud-partners/) |\n",
        "\n",
        "There are more options for using GPUs but the above three will suffice for now.\n",
        "\n",
        "Personally, I use a combination of Google Colab and my own personal computer for small scale experiments (and creating this course) and go to cloud resources when I need more compute power.\n",
        "\n",
        "> **Resource:** If you're looking to purchase a GPU of your own but not sure what to get, [Tim Dettmers has an excellent guide](https://timdettmers.com/2020/09/07/which-gpu-for-deep-learning/).\n",
        "\n",
        "To check if you've got access to a Nvidia GPU, you can run `!nvidia-smi` where the `!` (also called bang) means \"run this on the command line\".\n",
        "\n"
      ],
      "metadata": {
        "id": "HMF86UxQX7vR"
      }
    },
    {
      "cell_type": "code",
      "source": [
        "!nvidia-smi"
      ],
      "metadata": {
        "colab": {
          "base_uri": "https://localhost:8080/"
        },
        "id": "yCAHPOooaubt",
        "outputId": "28aa2046-4a6e-4cc2-b50a-ef83a5e73097"
      },
      "execution_count": 122,
      "outputs": [
        {
          "output_type": "stream",
          "name": "stdout",
          "text": [
            "Wed Sep 18 16:51:03 2024       \n",
            "+---------------------------------------------------------------------------------------+\n",
            "| NVIDIA-SMI 535.104.05             Driver Version: 535.104.05   CUDA Version: 12.2     |\n",
            "|-----------------------------------------+----------------------+----------------------+\n",
            "| GPU  Name                 Persistence-M | Bus-Id        Disp.A | Volatile Uncorr. ECC |\n",
            "| Fan  Temp   Perf          Pwr:Usage/Cap |         Memory-Usage | GPU-Util  Compute M. |\n",
            "|                                         |                      |               MIG M. |\n",
            "|=========================================+======================+======================|\n",
            "|   0  Tesla T4                       Off | 00000000:00:04.0 Off |                    0 |\n",
            "| N/A   68C    P0              32W /  70W |    151MiB / 15360MiB |      0%      Default |\n",
            "|                                         |                      |                  N/A |\n",
            "+-----------------------------------------+----------------------+----------------------+\n",
            "                                                                                         \n",
            "+---------------------------------------------------------------------------------------+\n",
            "| Processes:                                                                            |\n",
            "|  GPU   GI   CI        PID   Type   Process name                            GPU Memory |\n",
            "|        ID   ID                                                             Usage      |\n",
            "|=======================================================================================|\n",
            "+---------------------------------------------------------------------------------------+\n"
          ]
        }
      ]
    },
    {
      "cell_type": "markdown",
      "source": [
        "### Check for GPU access with PyTorch"
      ],
      "metadata": {
        "id": "PoCDOagWhd6V"
      }
    },
    {
      "cell_type": "code",
      "source": [
        "# Check for GPU access with PyTorch\n",
        "import torch\n",
        "torch.cuda.is_available()"
      ],
      "metadata": {
        "colab": {
          "base_uri": "https://localhost:8080/"
        },
        "id": "5Up9-SbRg_fy",
        "outputId": "f3d2e72c-527f-448b-b9b0-dd2119ff17ef"
      },
      "execution_count": 123,
      "outputs": [
        {
          "output_type": "execute_result",
          "data": {
            "text/plain": [
              "True"
            ]
          },
          "metadata": {},
          "execution_count": 123
        }
      ]
    },
    {
      "cell_type": "markdown",
      "source": [
        "For PyTorch since it's capable of running compute on the GPU or CPU, it's best practice to setup device agnostic code:\n",
        "https://pytorch.org/docs/stable/notes/cuda.html#best:practices\n",
        "\n",
        "E.g. run on GPU if aavailable , else default to CPU"
      ],
      "metadata": {
        "id": "Q3KqerOOjAxu"
      }
    },
    {
      "cell_type": "code",
      "source": [
        "# Setup device agnostic code\n",
        "device = \"cuda\" if torch.cuda.is_available() else \"cpu\"\n",
        "device"
      ],
      "metadata": {
        "colab": {
          "base_uri": "https://localhost:8080/",
          "height": 36
        },
        "id": "t79ZqWmOh9ok",
        "outputId": "d47a4056-f86e-4389-f44b-87c1b4ebfcc3"
      },
      "execution_count": 124,
      "outputs": [
        {
          "output_type": "execute_result",
          "data": {
            "text/plain": [
              "'cuda'"
            ],
            "application/vnd.google.colaboratory.intrinsic+json": {
              "type": "string"
            }
          },
          "metadata": {},
          "execution_count": 124
        }
      ]
    },
    {
      "cell_type": "code",
      "source": [
        "# Count number of devices\n",
        "torch.cuda.device_count()"
      ],
      "metadata": {
        "colab": {
          "base_uri": "https://localhost:8080/"
        },
        "id": "LEGIieakiMT2",
        "outputId": "4751db65-9111-46ec-e294-d8736daf672a"
      },
      "execution_count": 125,
      "outputs": [
        {
          "output_type": "execute_result",
          "data": {
            "text/plain": [
              "1"
            ]
          },
          "metadata": {},
          "execution_count": 125
        }
      ]
    },
    {
      "cell_type": "markdown",
      "source": [
        "## Putting tensor (and models) on the GPU\n",
        "\n",
        "The reson we want our tensors/models on the GPU is because using a GPU results in faster computations."
      ],
      "metadata": {
        "id": "AqTgNwJJj2_S"
      }
    },
    {
      "cell_type": "code",
      "source": [
        "# Create a tensor (default in the CPU)\n",
        "tensor = torch.tensor([1, 2, 3])\n",
        "\n",
        "# Tensor not on GPU\n",
        "print(tensor, tensor.device)"
      ],
      "metadata": {
        "colab": {
          "base_uri": "https://localhost:8080/"
        },
        "id": "JBJppNwCiShw",
        "outputId": "15020653-a85f-4165-8456-32a7468ebbd9"
      },
      "execution_count": 126,
      "outputs": [
        {
          "output_type": "stream",
          "name": "stdout",
          "text": [
            "tensor([1, 2, 3]) cpu\n"
          ]
        }
      ]
    },
    {
      "cell_type": "code",
      "source": [
        "# Move tensor to GPU (if available)\n",
        "tensor_on_gpu = tensor.to(device)\n",
        "tensor_on_gpu"
      ],
      "metadata": {
        "colab": {
          "base_uri": "https://localhost:8080/"
        },
        "id": "wVEIvspakZYi",
        "outputId": "040afd63-2c4f-482b-c8ff-4c0cfe6240a6"
      },
      "execution_count": 127,
      "outputs": [
        {
          "output_type": "execute_result",
          "data": {
            "text/plain": [
              "tensor([1, 2, 3], device='cuda:0')"
            ]
          },
          "metadata": {},
          "execution_count": 127
        }
      ]
    },
    {
      "cell_type": "markdown",
      "source": [
        "### Moving tensors back to the CPU\n"
      ],
      "metadata": {
        "id": "qnSgQVJ3SdwB"
      }
    },
    {
      "cell_type": "code",
      "source": [
        "# If tensor is on GPU . cna't transform it to NumPy\n",
        "tensor_on_gpu.numpy()"
      ],
      "metadata": {
        "id": "aashzoTkkqt_",
        "colab": {
          "base_uri": "https://localhost:8080/",
          "height": 164
        },
        "outputId": "7648e550-a822-458f-99ca-261d2f4a693f"
      },
      "execution_count": 128,
      "outputs": [
        {
          "output_type": "error",
          "ename": "TypeError",
          "evalue": "can't convert cuda:0 device type tensor to numpy. Use Tensor.cpu() to copy the tensor to host memory first.",
          "traceback": [
            "\u001b[0;31m---------------------------------------------------------------------------\u001b[0m",
            "\u001b[0;31mTypeError\u001b[0m                                 Traceback (most recent call last)",
            "\u001b[0;32m<ipython-input-128-63b86a71a9d6>\u001b[0m in \u001b[0;36m<cell line: 2>\u001b[0;34m()\u001b[0m\n\u001b[1;32m      1\u001b[0m \u001b[0;31m# If tensor is on GPU . cna't transform it to NumPy\u001b[0m\u001b[0;34m\u001b[0m\u001b[0;34m\u001b[0m\u001b[0m\n\u001b[0;32m----> 2\u001b[0;31m \u001b[0mtensor_on_gpu\u001b[0m\u001b[0;34m.\u001b[0m\u001b[0mnumpy\u001b[0m\u001b[0;34m(\u001b[0m\u001b[0;34m)\u001b[0m\u001b[0;34m\u001b[0m\u001b[0;34m\u001b[0m\u001b[0m\n\u001b[0m",
            "\u001b[0;31mTypeError\u001b[0m: can't convert cuda:0 device type tensor to numpy. Use Tensor.cpu() to copy the tensor to host memory first."
          ]
        }
      ]
    },
    {
      "cell_type": "code",
      "source": [
        "# To fix the GPU tensor with NumPy issue , we can first set it to the CPU\n",
        "tensor_back_on_cpu = tensor_on_gpu.cpu().numpy()\n",
        "tensor_back_on_cpu"
      ],
      "metadata": {
        "colab": {
          "base_uri": "https://localhost:8080/"
        },
        "id": "O961-U_xUio9",
        "outputId": "5350d651-b984-49d2-e1eb-cb7956cb891e"
      },
      "execution_count": 129,
      "outputs": [
        {
          "output_type": "execute_result",
          "data": {
            "text/plain": [
              "array([1, 2, 3])"
            ]
          },
          "metadata": {},
          "execution_count": 129
        }
      ]
    },
    {
      "cell_type": "code",
      "source": [
        "tensor_on_gpu"
      ],
      "metadata": {
        "colab": {
          "base_uri": "https://localhost:8080/"
        },
        "id": "PVonastRU6Ek",
        "outputId": "c447ca1c-539d-49a8-94ed-5401e2f12b3a"
      },
      "execution_count": 130,
      "outputs": [
        {
          "output_type": "execute_result",
          "data": {
            "text/plain": [
              "tensor([1, 2, 3], device='cuda:0')"
            ]
          },
          "metadata": {},
          "execution_count": 130
        }
      ]
    },
    {
      "cell_type": "markdown",
      "source": [
        "## Exercises & Extra-curriculum\n",
        "\n",
        "1. Documentation reading - A big part of deep learning (and learning to code in general) is getting familiar with the documentation of a certain framework you're using. We'll be using the PyTorch documentation a lot throughout the rest of this course. So I'd recommend spending 10-minutes reading the following (it's okay if you don't get some things for now, the focus is not yet full understanding, it's awareness). See the documentation on [`torch.Tensor`](https://pytorch.org/docs/stable/tensors.html#torch-tensor) and for [`torch.cuda`](https://pytorch.org/docs/master/notes/cuda.html#cuda-semantics)."
      ],
      "metadata": {
        "id": "AllToSZrYXOA"
      }
    },
    {
      "cell_type": "code",
      "source": [
        "## 1. Create a random tensor with shape (7, 7).\n",
        "\n",
        "import torch\n",
        "# Create random tensor\n",
        "tensor = torch.rand(7, 7)\n",
        "\n",
        "tensor, tensor.shape"
      ],
      "metadata": {
        "id": "ngPpJfECU-qf",
        "colab": {
          "base_uri": "https://localhost:8080/"
        },
        "outputId": "04f1ce7c-6820-47e7-c215-24f9efcba0d7"
      },
      "execution_count": 131,
      "outputs": [
        {
          "output_type": "execute_result",
          "data": {
            "text/plain": [
              "(tensor([[0.8694, 0.5677, 0.7411, 0.4294, 0.8854, 0.5739, 0.2666],\n",
              "         [0.6274, 0.2696, 0.4414, 0.2969, 0.8317, 0.1053, 0.2695],\n",
              "         [0.3588, 0.1994, 0.5472, 0.0062, 0.9516, 0.0753, 0.8860],\n",
              "         [0.5832, 0.3376, 0.8090, 0.5779, 0.9040, 0.5547, 0.3423],\n",
              "         [0.6343, 0.3644, 0.7104, 0.9464, 0.7890, 0.2814, 0.7886],\n",
              "         [0.5895, 0.7539, 0.1952, 0.0050, 0.3068, 0.1165, 0.9103],\n",
              "         [0.6440, 0.7071, 0.6581, 0.4913, 0.8913, 0.1447, 0.5315]]),\n",
              " torch.Size([7, 7]))"
            ]
          },
          "metadata": {},
          "execution_count": 131
        }
      ]
    },
    {
      "cell_type": "code",
      "source": [
        "# 2. Perform a matrix multiplication on the tensor from 2 with another random tensor with shape (1, 7).\n",
        "# Create another random tensor\n",
        "another_tensor = torch.rand(1, 7)\n",
        "\n",
        "print(another_tensor)\n",
        "\n",
        "# Perform matrix multiplication\n",
        "result = torch.matmul(tensor, another_tensor.T)\n",
        "\n",
        "result, result.shape\n"
      ],
      "metadata": {
        "id": "jZQA-AQij1Hi",
        "colab": {
          "base_uri": "https://localhost:8080/"
        },
        "outputId": "90c0d49d-db23-4be3-93aa-5f1368286908"
      },
      "execution_count": 132,
      "outputs": [
        {
          "output_type": "stream",
          "name": "stdout",
          "text": [
            "tensor([[0.1587, 0.6542, 0.3278, 0.6532, 0.3958, 0.9147, 0.2036]])\n"
          ]
        },
        {
          "output_type": "execute_result",
          "data": {
            "text/plain": [
              "(tensor([[1.9625],\n",
              "         [1.0950],\n",
              "         [0.9967],\n",
              "         [1.8910],\n",
              "         [1.9205],\n",
              "         [1.0674],\n",
              "         [1.6949]]),\n",
              " torch.Size([7, 1]))"
            ]
          },
          "metadata": {},
          "execution_count": 132
        }
      ]
    },
    {
      "cell_type": "code",
      "source": [
        "## 3. Set the random seed to 0  and Create a random seed with shape (7, 7).\n",
        "RANDOM_SEED = 0\n",
        "torch.manual_seed(RANDOM_SEED)\n",
        "\n",
        "\n",
        "# Create random tensor\n",
        "tensor_A = torch.rand(size=(7, 7))\n",
        "tensor_B = torch.rand(size=(1, 7))\n",
        "\n",
        "print(tensor_A)\n",
        "print(tensor_B)\n",
        "# Matrix multiply tensors\n",
        "tensor_c = torch.matmul(tensor_A, tensor_B.T)\n",
        "tensor_c, tensor_c.shape"
      ],
      "metadata": {
        "id": "8KudO2nEmAbN",
        "colab": {
          "base_uri": "https://localhost:8080/"
        },
        "outputId": "29cd5657-b5bc-4d4d-e595-d0e4c4f78ece"
      },
      "execution_count": 133,
      "outputs": [
        {
          "output_type": "stream",
          "name": "stdout",
          "text": [
            "tensor([[0.4963, 0.7682, 0.0885, 0.1320, 0.3074, 0.6341, 0.4901],\n",
            "        [0.8964, 0.4556, 0.6323, 0.3489, 0.4017, 0.0223, 0.1689],\n",
            "        [0.2939, 0.5185, 0.6977, 0.8000, 0.1610, 0.2823, 0.6816],\n",
            "        [0.9152, 0.3971, 0.8742, 0.4194, 0.5529, 0.9527, 0.0362],\n",
            "        [0.1852, 0.3734, 0.3051, 0.9320, 0.1759, 0.2698, 0.1507],\n",
            "        [0.0317, 0.2081, 0.9298, 0.7231, 0.7423, 0.5263, 0.2437],\n",
            "        [0.5846, 0.0332, 0.1387, 0.2422, 0.8155, 0.7932, 0.2783]])\n",
            "tensor([[0.4820, 0.8198, 0.9971, 0.6984, 0.5675, 0.8352, 0.2056]])\n"
          ]
        },
        {
          "output_type": "execute_result",
          "data": {
            "text/plain": [
              "(tensor([[1.8542],\n",
              "         [1.9611],\n",
              "         [2.2884],\n",
              "         [3.0481],\n",
              "         [1.7067],\n",
              "         [2.5290],\n",
              "         [1.7989]]),\n",
              " torch.Size([7, 1]))"
            ]
          },
          "metadata": {},
          "execution_count": 133
        }
      ]
    },
    {
      "cell_type": "code",
      "source": [
        "## 4. Speaking of random seeds, we saw how to set it with torch.manual_seed() but is there a GPU equivalent? (hint: you'll need to look into the documentation for torch.cuda for this one). If there is, set the GPU random seed to 1234.\n",
        "\n",
        "# Set random seed on the GPU\n",
        "torch.cuda.manual_seed(1234)\n",
        "\n",
        "\n"
      ],
      "metadata": {
        "id": "0WSiubZ8onC7"
      },
      "execution_count": 134,
      "outputs": []
    },
    {
      "cell_type": "code",
      "source": [
        "## 5. Create two random tensors of shape (2, 3) and send them both to the GPU (you'll need access to a GPU for this). Set torch.manual_seed(1234) when creating the tensors (this doesn't have to be the GPU random seed).\n",
        "# Set random seed\n",
        "RANDOM_SEED = 1234\n",
        "torch.manual_seed(RANDOM_SEED)\n",
        "\n",
        "# Check for access to GPU\n",
        "device = \"cuda\" if torch.cuda.is_available() else \"cpu\"\n",
        "\n",
        "# Create two random tensors on GPU\n",
        "tensor_A = torch.rand(2, 3).to(device)\n",
        "tensor_B = torch.rand(2, 3).to(device)\n",
        "tensor_A, tensor_B\n"
      ],
      "metadata": {
        "id": "4EzSwuNnqkht",
        "colab": {
          "base_uri": "https://localhost:8080/"
        },
        "outputId": "ee6f76c0-6fda-40c2-a884-6d13614f6335"
      },
      "execution_count": 135,
      "outputs": [
        {
          "output_type": "execute_result",
          "data": {
            "text/plain": [
              "(tensor([[0.0290, 0.4019, 0.2598],\n",
              "         [0.3666, 0.0583, 0.7006]], device='cuda:0'),\n",
              " tensor([[0.0518, 0.4681, 0.6738],\n",
              "         [0.3315, 0.7837, 0.5631]], device='cuda:0'))"
            ]
          },
          "metadata": {},
          "execution_count": 135
        }
      ]
    },
    {
      "cell_type": "code",
      "source": [
        "## 6. Perform a matrix multiplication on the tensors you created in 6 (again, you may have to adjust the shapes of one of the tensors).\n",
        "# Perform matmul on tensor_A and tensor_B\n",
        "result = torch.matmul(tensor_A, tensor_B.T)\n",
        "result, result.shape\n",
        "#"
      ],
      "metadata": {
        "id": "11kJ4-ozq8WY",
        "colab": {
          "base_uri": "https://localhost:8080/"
        },
        "outputId": "2e46299b-d845-456f-f8eb-3cd09e1a93b3"
      },
      "execution_count": 136,
      "outputs": [
        {
          "output_type": "execute_result",
          "data": {
            "text/plain": [
              "(tensor([[0.3647, 0.4709],\n",
              "         [0.5184, 0.5617]], device='cuda:0'),\n",
              " torch.Size([2, 2]))"
            ]
          },
          "metadata": {},
          "execution_count": 136
        }
      ]
    },
    {
      "cell_type": "code",
      "source": [
        "## 7. Find the maximum and minimum values of the output of 7.\n",
        "\n",
        "# Find max\n",
        "max_value = torch.max(result)\n",
        "\n",
        "# Find min\n",
        "min_value = torch.min(result)\n",
        "\n",
        "max_value, min_value"
      ],
      "metadata": {
        "id": "6m3fpU7jzNHi",
        "colab": {
          "base_uri": "https://localhost:8080/"
        },
        "outputId": "549b4d12-7263-41da-c349-4ae0149425a2"
      },
      "execution_count": 137,
      "outputs": [
        {
          "output_type": "execute_result",
          "data": {
            "text/plain": [
              "(tensor(0.5617, device='cuda:0'), tensor(0.3647, device='cuda:0'))"
            ]
          },
          "metadata": {},
          "execution_count": 137
        }
      ]
    },
    {
      "cell_type": "code",
      "source": [
        "## 8 Find the maximum and minimum index values of the output of 7.\n",
        "\n",
        "# Find arg max\n",
        "arg_max = torch.argmax(result)\n",
        "\n",
        "# Find arg min\n",
        "arg_min = torch.argmin(result)\n",
        "\n",
        "arg_max, arg_min\n"
      ],
      "metadata": {
        "id": "fC7I1xWY2V46",
        "colab": {
          "base_uri": "https://localhost:8080/"
        },
        "outputId": "cb339b3a-0cfb-4bb0-8497-8acf040c87bf"
      },
      "execution_count": 138,
      "outputs": [
        {
          "output_type": "execute_result",
          "data": {
            "text/plain": [
              "(tensor(3, device='cuda:0'), tensor(0, device='cuda:0'))"
            ]
          },
          "metadata": {},
          "execution_count": 138
        }
      ]
    },
    {
      "cell_type": "code",
      "source": [
        "## 9.Make a random tensor with shape (1, 1, 1, 10) and then create a new tensor with all the 1 dimensions removed to be left with a tensor of shape (10). Set the seed to 7 when you create it and print out the first tensor and it's shape as well as the second tensor and it's shape.\n",
        "# Set seed\n",
        "RANDOM_SEED = 7\n",
        "torch.manual_seed(RANDOM_SEED)\n",
        "\n",
        "# Create random tensor\n",
        "tensor = torch.rand(1, 1, 1, 10)\n",
        "\n",
        "# Remove single dimensions\n",
        "squeezed_tensor = tensor.squeeze()\n",
        "\n",
        "# Print out tensors and their shapes\n",
        "print(tensor, tensor.shape)\n",
        "\n",
        "print(squeezed_tensor, squeezed_tensor.shape)"
      ],
      "metadata": {
        "id": "K91ZtlLK3kwT",
        "colab": {
          "base_uri": "https://localhost:8080/"
        },
        "outputId": "fede43f8-d3b6-4392-d2fc-3148200c9746"
      },
      "execution_count": 139,
      "outputs": [
        {
          "output_type": "stream",
          "name": "stdout",
          "text": [
            "tensor([[[[0.5349, 0.1988, 0.6592, 0.6569, 0.2328, 0.4251, 0.2071, 0.6297,\n",
            "           0.3653, 0.8513]]]]) torch.Size([1, 1, 1, 10])\n",
            "tensor([0.5349, 0.1988, 0.6592, 0.6569, 0.2328, 0.4251, 0.2071, 0.6297, 0.3653,\n",
            "        0.8513]) torch.Size([10])\n"
          ]
        }
      ]
    },
    {
      "cell_type": "code",
      "source": [],
      "metadata": {
        "id": "5TIXqvnE4FtY"
      },
      "execution_count": null,
      "outputs": []
    }
  ]
}