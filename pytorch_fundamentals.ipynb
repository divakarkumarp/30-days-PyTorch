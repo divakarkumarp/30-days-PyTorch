{
 "cells": [
  {
   "cell_type": "markdown",
   "metadata": {},
   "source": [
    "## Deep Learning With PyTorch 🔥\n",
    "\n",
    "##### What Deep Learning is good for 🤖✅\n",
    "* Problems with long lists of rules - When the traditional approach fails , machine learning/ deep learning may help.\n",
    "* Continually changing environments - Deep Learning can adapt ('learn')to new scenarios.\n",
    "* Discovering insights within large collections of data - Can you imagine a trying to hand-craft rules foe what 101 different kinds of food loos lik?\n",
    "--------------\n",
    "##### What Deep Learning is not good for 🤖❌ (typically)\n",
    "* *When you need explainability* - The pattern learned by a deep learning model are typically uninterpretable by a human.\n",
    "* *When the traditional approach is a batter option* - IF YOU CAN accomplish wgat you need with a simple rule-based system.\n",
    "* *When errors are unacceptable* - Since the output of deep learning model aren't always predictable.\n",
    "* *When you don't have much data* -  Deep Learning models usually require a fairly large amount of data to produce great results.\n"
   ]
  },
  {
   "cell_type": "markdown",
   "metadata": {},
   "source": [
    "#### Machine learning Vs. Deep Learning\n",
    "-----------\n",
    "<img src=\"https://github.com/user-attachments/assets/33145c5d-c2ef-4cbf-b8f9-eca7a8ed12f5\" alt=\"image\" width=\"500\" height=\"300\">\n",
    "\n",
    "<img src=\"https://github.com/user-attachments/assets/97d67984-27d5-4b90-8981-47e355d792e2\" alt=\"image\" width=\"500\" height=\"300\">\n"
   ]
  },
  {
   "cell_type": "markdown",
   "metadata": {},
   "source": [
    "#### Neural Networks\n",
    "\n",
    "<img src=\"https://github.com/user-attachments/assets/9db3723b-724a-4cf1-a2d9-09e9453529e5\" alt=\"image\" width=\"600\" height=\"300\">\n",
    "\n",
    "<img src=\"https://github.com/user-attachments/assets/48e45340-1c86-4c55-a209-c47513eb84d3\" alt=\"image\" width=\"600\" height=\"300\">\n",
    "\n",
    "#### Types of Learning\n",
    "<img src=\"https://github.com/user-attachments/assets/185f473f-24c2-4ac6-92e9-82f005780583\" alt=\"image\" width=\"600\" height=\"300\">\n",
    "\n",
    "#### What is deep learning acrually used for?\n",
    "<img src=\"https://github.com/user-attachments/assets/9510f13d-737b-4183-bea9-77382b92b33d\" alt=\"image\" width=\"600\" height=\"300\">"
   ]
  },
  {
   "cell_type": "markdown",
   "metadata": {},
   "source": [
    "### What is Pytorch ❔\n",
    "\n",
    "![image](https://github.com/user-attachments/assets/dc0dc690-bd89-4194-a907-b6b2797f691f)\n",
    "\n",
    "\n",
    "*PyTorch is an open-source machine learning library for Python developed by Facebook’s AI Research Lab (FAIR). It is widely used for building deep learning models and conducting research in various fields like computer vision, natural language processing, and reinforcement learning. One of the key features of PyTorch is its dynamic computational graph, which allows for more flexible and intuitive model construction compared to static graph frameworks. PyTorch also offers seamless integration with other popular libraries like NumPy, making it easier to work with tensors and multidimensional arrays.*\n",
    "\n",
    "<img src=\"https://github.com/user-attachments/assets/26cda491-f9a4-4b4a-b7e5-4d39dca59ccf\" alt=\"image\" width=\"600\" height=\"300\">\n",
    "\n",
    "URL: https://paperswithcode.com/trends\n",
    "\n",
    "Why use PyTorch?\n",
    "\n",
    "* It supports tensor computation: Tensor is the data structure that is similar to the networks, array. It is an n-dimensional array that contains the data. We can perform arbitrary numeric computation on these arrays using the APIs.\n",
    "* It provides Dynamic Graph Computation: This feature allows us to define the computational graphs dynamically during runtime. This makes it more flexible than the static computation graphs approach in which where the graph structure is fixed and defined before execution,\n",
    "* It provides the Automatic Differentiation: The Autograd package automatically computes the gradients that are crucial for training the model using optimization algorithms. Thus, we can perform operations on tensors without manually calculating gradients.\n",
    "* It has Support for Python: It has native support for the Python programming language. Thus, we can easily integrate with existing Python workflows and libraries. This is the reason why it is used by the machine learning and data science communities.\n",
    "* It has its production environment: PyTorch has the TorchScript which is the high-performance environment for serializing and executing PyTorch models. You can easily compile PyTorch models into a portable intermediate representation (IR) format. Due to this, we can deploy the model on various platforms and devices without requiring the original Python code.\n",
    "\n",
    "<img src=\"https://github.com/user-attachments/assets/51286c05-66c7-4b67-8166-5dd5e0e2e78d\" alt=\"image\" width=\"500\" height=\"300\">\n",
    "\n",
    "<img src=\"https://github.com/user-attachments/assets/0d1d92f5-337e-42ba-b65b-7f3ab83b57f2\" alt=\"image\" width=\"500\" height=\"300\">\n",
    "\n",
    "<img src=\"https://github.com/user-attachments/assets/7f982bad-e138-44f4-97ba-0cfb82fa444c\" alt=\"image\" width=\"500\" height=\"300\">\n",
    "\n",
    "<img src=\"https://github.com/user-attachments/assets/734db3e1-0dbf-4bd5-b2cf-536e476caf31\" alt=\"image\" width=\"500\" height=\"300\">\n",
    "\n",
    "What is a GPU/TPU\n",
    "\n",
    "What is a tensor?\n",
    "\n",
    "<img src=\"https://github.com/user-attachments/assets/403d0152-a604-439b-9752-893fc30f4868\" alt=\"image\" width=\"500\" height=\"300\">\n",
    "\n",
    "<img src=\"https://github.com/user-attachments/assets/fb5c8501-a367-429f-99f2-1e33926bf60d\" alt=\"image\" width=\"500\" height=\"300\">"
   ]
  }
 ],
 "metadata": {
  "kernelspec": {
   "display_name": "Python 3",
   "language": "python",
   "name": "python3"
  },
  "language_info": {
   "codemirror_mode": {
    "name": "ipython",
    "version": 3
   },
   "file_extension": ".py",
   "mimetype": "text/x-python",
   "name": "python",
   "nbconvert_exporter": "python",
   "pygments_lexer": "ipython3",
   "version": "3.12.3"
  }
 },
 "nbformat": 4,
 "nbformat_minor": 2
}
